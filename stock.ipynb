{
 "cells": [
  {
   "cell_type": "code",
   "execution_count": 8,
   "id": "9ffc8653",
   "metadata": {},
   "outputs": [],
   "source": [
    "import plotly.graph_objects as go\n",
    "import pandas as pd\n",
    "import datetime \n",
    "import matplotlib.pyplot as plt\n",
    "import pandas_datareader.data as web\n",
    "import numpy as np\n",
    "import quandl"
   ]
  },
  {
   "cell_type": "code",
   "execution_count": 9,
   "id": "9ee0f5b7",
   "metadata": {},
   "outputs": [
    {
     "data": {
      "text/html": [
       "<div>\n",
       "<style scoped>\n",
       "    .dataframe tbody tr th:only-of-type {\n",
       "        vertical-align: middle;\n",
       "    }\n",
       "\n",
       "    .dataframe tbody tr th {\n",
       "        vertical-align: top;\n",
       "    }\n",
       "\n",
       "    .dataframe thead th {\n",
       "        text-align: right;\n",
       "    }\n",
       "</style>\n",
       "<table border=\"1\" class=\"dataframe\">\n",
       "  <thead>\n",
       "    <tr style=\"text-align: right;\">\n",
       "      <th></th>\n",
       "      <th>High</th>\n",
       "      <th>Low</th>\n",
       "      <th>Open</th>\n",
       "      <th>Close</th>\n",
       "      <th>Volume</th>\n",
       "      <th>Adj Close</th>\n",
       "    </tr>\n",
       "  </thead>\n",
       "  <tbody>\n",
       "    <tr>\n",
       "      <th>count</th>\n",
       "      <td>307.000000</td>\n",
       "      <td>307.000000</td>\n",
       "      <td>307.000000</td>\n",
       "      <td>307.000000</td>\n",
       "      <td>3.070000e+02</td>\n",
       "      <td>307.000000</td>\n",
       "    </tr>\n",
       "    <tr>\n",
       "      <th>mean</th>\n",
       "      <td>147.083128</td>\n",
       "      <td>143.926384</td>\n",
       "      <td>145.479609</td>\n",
       "      <td>145.576515</td>\n",
       "      <td>9.159084e+07</td>\n",
       "      <td>145.100626</td>\n",
       "    </tr>\n",
       "    <tr>\n",
       "      <th>std</th>\n",
       "      <td>17.117318</td>\n",
       "      <td>16.585785</td>\n",
       "      <td>16.812452</td>\n",
       "      <td>16.884207</td>\n",
       "      <td>2.815811e+07</td>\n",
       "      <td>17.102948</td>\n",
       "    </tr>\n",
       "    <tr>\n",
       "      <th>min</th>\n",
       "      <td>120.400002</td>\n",
       "      <td>116.209999</td>\n",
       "      <td>119.029999</td>\n",
       "      <td>116.360001</td>\n",
       "      <td>4.100000e+07</td>\n",
       "      <td>115.672501</td>\n",
       "    </tr>\n",
       "    <tr>\n",
       "      <th>25%</th>\n",
       "      <td>132.315002</td>\n",
       "      <td>129.430000</td>\n",
       "      <td>130.755005</td>\n",
       "      <td>130.964996</td>\n",
       "      <td>7.130415e+07</td>\n",
       "      <td>130.054260</td>\n",
       "    </tr>\n",
       "    <tr>\n",
       "      <th>50%</th>\n",
       "      <td>146.550003</td>\n",
       "      <td>143.820007</td>\n",
       "      <td>144.690002</td>\n",
       "      <td>145.600006</td>\n",
       "      <td>8.807120e+07</td>\n",
       "      <td>145.025421</td>\n",
       "    </tr>\n",
       "    <tr>\n",
       "      <th>75%</th>\n",
       "      <td>160.724998</td>\n",
       "      <td>155.250000</td>\n",
       "      <td>158.675003</td>\n",
       "      <td>158.870003</td>\n",
       "      <td>1.064632e+08</td>\n",
       "      <td>158.768707</td>\n",
       "    </tr>\n",
       "    <tr>\n",
       "      <th>max</th>\n",
       "      <td>182.940002</td>\n",
       "      <td>179.119995</td>\n",
       "      <td>182.630005</td>\n",
       "      <td>182.009995</td>\n",
       "      <td>1.954327e+08</td>\n",
       "      <td>181.778397</td>\n",
       "    </tr>\n",
       "  </tbody>\n",
       "</table>\n",
       "</div>"
      ],
      "text/plain": [
       "             High         Low        Open       Close        Volume  \\\n",
       "count  307.000000  307.000000  307.000000  307.000000  3.070000e+02   \n",
       "mean   147.083128  143.926384  145.479609  145.576515  9.159084e+07   \n",
       "std     17.117318   16.585785   16.812452   16.884207  2.815811e+07   \n",
       "min    120.400002  116.209999  119.029999  116.360001  4.100000e+07   \n",
       "25%    132.315002  129.430000  130.755005  130.964996  7.130415e+07   \n",
       "50%    146.550003  143.820007  144.690002  145.600006  8.807120e+07   \n",
       "75%    160.724998  155.250000  158.675003  158.870003  1.064632e+08   \n",
       "max    182.940002  179.119995  182.630005  182.009995  1.954327e+08   \n",
       "\n",
       "        Adj Close  \n",
       "count  307.000000  \n",
       "mean   145.100626  \n",
       "std     17.102948  \n",
       "min    115.672501  \n",
       "25%    130.054260  \n",
       "50%    145.025421  \n",
       "75%    158.768707  \n",
       "max    181.778397  "
      ]
     },
     "execution_count": 9,
     "metadata": {},
     "output_type": "execute_result"
    }
   ],
   "source": [
    "start = datetime.datetime(2021,1,1)\n",
    "end = datetime.date.today()\n",
    "\n",
    "#df = pd.read_csv('AAPL.csv')\n",
    "df = web.DataReader( 'AAPl',  'yahoo',  start, end)\n",
    "#df.to_csv('AAPl.csv')\n",
    "df.head()\n",
    "df.shape\n",
    "#checking if the dataset has any null values\n",
    "df.isnull().sum()\n",
    "df.describe()\n",
    "#df['Date'].max() — df['Date'].min()"
   ]
  },
  {
   "cell_type": "markdown",
   "id": "c5446d30",
   "metadata": {},
   "source": [
    "import matplotlib.pyplot as plt\n",
    "plt.plot(df['Close'])\n",
    "plt.plot(df['Adj Close'])"
   ]
  },
  {
   "cell_type": "code",
   "execution_count": 10,
   "id": "8c24aa50",
   "metadata": {},
   "outputs": [
    {
     "data": {
      "text/plain": [
       "[<matplotlib.lines.Line2D at 0x1ebb87d9b40>]"
      ]
     },
     "execution_count": 10,
     "metadata": {},
     "output_type": "execute_result"
    },
    {
     "data": {
      "image/png": "[encoded data removed]",
      "text/plain": [
       "<Figure size 432x288 with 1 Axes>"
      ]
     },
     "metadata": {
      "needs_background": "light"
     },
     "output_type": "display_data"
    }
   ],
   "source": [
    "\n",
    "\n",
    "plt.plot(df['Close'])\n",
    "plt.plot(df['Adj Close'])\n",
    "#plt.plot(df['AAPL.Close'])\n",
    "#plt.plot(df['mavg'])\n",
    "\n",
    "\n"
   ]
  },
  {
   "cell_type": "code",
   "execution_count": 11,
   "id": "ecf21d83",
   "metadata": {},
   "outputs": [
    {
     "data": {
      "application/vnd.plotly.v1+json": {
       "config": {
        "plotlyServerURL": "https://plot.ly"
       },
       "data": [
        {
         "close": [
          132.69000244140625,
          129.41000366210938,
          131.00999450683594,
          126.5999984741211,
          130.9199981689453,
          132.0500030517578,
          128.97999572753906,
          128.8000030517578,
          130.88999938964844,
          128.91000366210938,
          127.13999938964844,
          127.83000183105469,
          132.02999877929688,
          136.8699951171875,
          139.07000732421875,
          142.9199981689453,
          143.16000366210938,
          142.05999755859375,
          137.08999633789062,
          131.9600067138672,
          134.13999938964844,
          134.99000549316406,
          133.94000244140625,
          137.38999938964844,
          136.75999450683594,
          136.91000366210938,
          136.00999450683594,
          135.38999938964844,
          135.1300048828125,
          135.3699951171875,
          133.19000244140625,
          130.83999633789062,
          129.7100067138672,
          129.8699951171875,
          126,
          125.86000061035156,
          125.3499984741211,
          120.98999786376953,
          121.26000213623047,
          127.79000091552734,
          125.12000274658203,
          122.05999755859375,
          120.12999725341797,
          121.41999816894531,
          116.36000061035156,
          121.08999633789062,
          119.9800033569336,
          121.95999908447266,
          121.02999877929688,
          123.98999786376953,
          125.56999969482422,
          124.76000213623047,
          120.52999877929688,
          119.98999786376953,
          123.38999938964844,
          122.54000091552734,
          120.08999633789062,
          120.58999633789062,
          121.20999908447266,
          121.38999938964844,
          119.9000015258789,
          122.1500015258789,
          123,
          125.9000015258789,
          126.20999908447266,
          127.9000015258789,
          130.36000061035156,
          133,
          131.24000549316406,
          134.42999267578125,
          132.02999877929688,
          134.5,
          134.16000366210938,
          134.83999633789062,
          133.11000061035156,
          133.5,
          131.94000244140625,
          134.32000732421875,
          134.72000122070312,
          134.38999938964844,
          133.5800018310547,
          133.47999572753906,
          131.4600067138672,
          132.5399932861328,
          127.8499984741211,
          128.10000610351562,
          129.74000549316406,
          130.2100067138672,
          126.8499984741211,
          125.91000366210938,
          122.7699966430664,
          124.97000122070312,
          127.44999694824219,
          126.2699966430664,
          124.8499984741211,
          124.69000244140625,
          127.30999755859375,
          125.43000030517578,
          127.0999984741211,
          126.9000015258789,
          126.8499984741211,
          125.27999877929688,
          124.61000061035156,
          124.27999877929688,
          125.05999755859375,
          123.54000091552734,
          125.88999938964844,
          125.9000015258789,
          126.73999786376953,
          127.12999725341797,
          126.11000061035156,
          127.3499984741211,
          130.47999572753906,
          129.63999938964844,
          130.14999389648438,
          131.7899932861328,
          130.4600067138672,
          132.3000030517578,
          133.97999572753906,
          133.6999969482422,
          133.41000366210938,
          133.11000061035156,
          134.77999877929688,
          136.3300018310547,
          136.9600067138672,
          137.27000427246094,
          139.9600067138672,
          142.02000427246094,
          144.57000732421875,
          143.24000549316406,
          145.11000061035156,
          144.5,
          145.63999938964844,
          149.14999389648438,
          148.47999572753906,
          146.38999938964844,
          142.4499969482422,
          146.14999389648438,
          145.39999389648438,
          146.8000030517578,
          148.55999755859375,
          148.99000549316406,
          146.77000427246094,
          144.97999572753906,
          145.63999938964844,
          145.86000061035156,
          145.52000427246094,
          147.36000061035156,
          146.9499969482422,
          147.05999755859375,
          146.13999938964844,
          146.08999633789062,
          145.60000610351562,
          145.86000061035156,
          148.88999938964844,
          149.10000610351562,
          151.1199951171875,
          150.19000244140625,
          146.36000061035156,
          146.6999969482422,
          148.19000244140625,
          149.7100067138672,
          149.6199951171875,
          148.36000061035156,
          147.5399932861328,
          148.60000610351562,
          153.1199951171875,
          151.8300018310547,
          152.50999450683594,
          153.64999389648438,
          154.3000030517578,
          156.69000244140625,
          155.11000061035156,
          154.07000732421875,
          148.97000122070312,
          149.5500030517578,
          148.1199951171875,
          149.02999877929688,
          148.7899932861328,
          146.05999755859375,
          142.94000244140625,
          143.42999267578125,
          145.85000610351562,
          146.8300018310547,
          146.9199981689453,
          145.3699951171875,
          141.91000366210938,
          142.8300018310547,
          141.5,
          142.64999389648438,
          139.13999938964844,
          141.11000061035156,
          142,
          143.2899932861328,
          142.89999389648438,
          142.80999755859375,
          141.50999450683594,
          140.91000366210938,
          143.75999450683594,
          144.83999633789062,
          146.5500030517578,
          148.75999450683594,
          149.25999450683594,
          149.47999572753906,
          148.69000244140625,
          148.63999938964844,
          149.32000732421875,
          148.85000610351562,
          152.57000732421875,
          149.8000030517578,
          148.9600067138672,
          150.02000427246094,
          151.49000549316406,
          150.9600067138672,
          151.27999877929688,
          150.44000244140625,
          150.80999755859375,
          147.9199981689453,
          147.8699951171875,
          149.99000549316406,
          150,
          151,
          153.49000549316406,
          157.8699951171875,
          160.5500030517578,
          161.02000427246094,
          161.41000366210938,
          161.94000244140625,
          156.80999755859375,
          160.24000549316406,
          165.3000030517578,
          164.77000427246094,
          163.75999450683594,
          161.83999633789062,
          165.32000732421875,
          171.17999267578125,
          175.0800018310547,
          174.55999755859375,
          179.4499969482422,
          175.74000549316406,
          174.3300018310547,
          179.3000030517578,
          172.25999450683594,
          171.13999938964844,
          169.75,
          172.99000549316406,
          175.63999938964844,
          176.27999877929688,
          180.3300018310547,
          179.2899932861328,
          179.3800048828125,
          178.1999969482422,
          177.57000732421875,
          182.00999450683594,
          179.6999969482422,
          174.9199981689453,
          172,
          172.1699981689453,
          172.19000244140625,
          175.0800018310547,
          175.52999877929688,
          172.19000244140625,
          173.07000732421875,
          169.8000030517578,
          166.22999572753906,
          164.50999450683594,
          162.41000366210938,
          161.6199951171875,
          159.77999877929688,
          159.69000244140625,
          159.22000122070312,
          170.3300018310547,
          174.77999877929688,
          174.61000061035156,
          175.83999633789062,
          172.89999389648438,
          172.38999938964844,
          171.66000366210938,
          174.8300018310547,
          176.27999877929688,
          172.1199951171875,
          168.63999938964844,
          168.8800048828125,
          172.7899932861328,
          172.5500030517578,
          168.8800048828125,
          167.3000030517578,
          164.32000732421875,
          160.07000732421875,
          162.74000549316406,
          164.85000610351562,
          165.1199951171875,
          163.1999969482422,
          166.55999755859375,
          166.22999572753906,
          163.1699981689453,
          159.3000030517578,
          157.44000244140625,
          162.9499969482422,
          158.52000427246094,
          154.72999572753906,
          150.6199951171875,
          155.08999633789062,
          159.58999633789062,
          160.6199951171875,
          163.97999572753906,
          163.97999572753906
         ],
         "high": [
          134.74000549316406,
          133.61000061035156,
          131.74000549316406,
          131.0500030517578,
          131.6300048828125,
          132.6300048828125,
          130.1699981689453,
          129.69000244140625,
          131.4499969482422,
          131,
          130.22000122070312,
          128.7100067138672,
          132.49000549316406,
          139.6699981689453,
          139.85000610351562,
          145.08999633789062,
          144.3000030517578,
          144.3000030517578,
          141.99000549316406,
          136.74000549316406,
          135.3800048828125,
          136.30999755859375,
          135.77000427246094,
          137.39999389648438,
          137.4199981689453,
          136.9600067138672,
          137.8800048828125,
          136.99000549316406,
          136.38999938964844,
          135.52999877929688,
          136.00999450683594,
          132.22000122070312,
          130,
          130.7100067138672,
          129.72000122070312,
          126.70999908447266,
          125.55999755859375,
          126.45999908447266,
          124.8499984741211,
          127.93000030517578,
          128.72000122070312,
          125.70999908447266,
          123.5999984741211,
          121.94000244140625,
          121,
          122.05999755859375,
          122.16999816894531,
          123.20999908447266,
          121.16999816894531,
          124,
          127.22000122070312,
          125.86000061035156,
          123.18000030517578,
          121.43000030517578,
          123.87000274658203,
          124.23999786376953,
          122.9000015258789,
          121.66000366210938,
          121.4800033569336,
          122.58000183105469,
          120.4000015258789,
          123.5199966430664,
          124.18000030517578,
          126.16000366210938,
          127.12999725341797,
          127.91999816894531,
          130.38999938964844,
          133.0399932861328,
          132.85000610351562,
          134.66000366210938,
          135,
          135,
          134.6699981689453,
          135.47000122070312,
          135.52999877929688,
          133.75,
          134.14999389648438,
          135.1199951171875,
          135.05999755859375,
          135.41000366210938,
          135.02000427246094,
          137.07000732421875,
          133.55999755859375,
          134.07000732421875,
          131.49000549316406,
          130.4499969482422,
          129.75,
          131.25999450683594,
          129.5399932861328,
          126.2699966430664,
          124.63999938964844,
          126.1500015258789,
          127.88999938964844,
          126.93000030517578,
          126.98999786376953,
          124.91999816894531,
          127.72000122070312,
          128,
          127.94000244140625,
          128.32000732421875,
          127.38999938964844,
          127.63999938964844,
          125.80000305175781,
          125.3499984741211,
          125.23999786376953,
          124.8499984741211,
          126.16000366210938,
          126.31999969482422,
          128.4600067138672,
          127.75,
          128.19000244140625,
          127.44000244140625,
          130.5399932861328,
          130.60000610351562,
          130.88999938964844,
          132.5500030517578,
          131.50999450683594,
          132.41000366210938,
          134.0800018310547,
          134.32000732421875,
          134.63999938964844,
          133.88999938964844,
          135.25,
          136.49000549316406,
          137.41000366210938,
          137.3300018310547,
          140,
          143.14999389648438,
          144.88999938964844,
          144.05999755859375,
          145.64999389648438,
          146.32000732421875,
          147.4600067138672,
          149.57000732421875,
          150,
          149.75999450683594,
          144.07000732421875,
          147.10000610351562,
          146.1300048828125,
          148.1999969482422,
          148.72000122070312,
          149.8300018310547,
          149.2100067138672,
          146.97000122070312,
          146.5500030517578,
          146.3300018310547,
          146.9499969482422,
          148.0399932861328,
          147.7899932861328,
          147.83999633789062,
          147.11000061035156,
          146.6999969482422,
          147.7100067138672,
          146.72000122070312,
          149.0500030517578,
          149.44000244140625,
          151.19000244140625,
          151.67999267578125,
          150.72000122070312,
          148,
          148.5,
          150.19000244140625,
          150.86000061035156,
          150.32000732421875,
          149.1199951171875,
          148.75,
          153.49000549316406,
          152.8000030517578,
          154.97999572753906,
          154.72000122070312,
          154.6300048828125,
          157.25999450683594,
          157.0399932861328,
          156.11000061035156,
          155.47999572753906,
          151.4199981689453,
          151.07000732421875,
          149.44000244140625,
          148.97000122070312,
          148.82000732421875,
          144.83999633789062,
          144.60000610351562,
          146.42999267578125,
          147.0800018310547,
          147.47000122070312,
          145.9600067138672,
          144.75,
          144.4499969482422,
          144.3800048828125,
          142.9199981689453,
          142.2100067138672,
          142.24000549316406,
          142.14999389648438,
          144.22000122070312,
          144.17999267578125,
          144.80999755859375,
          143.25,
          141.39999389648438,
          143.8800048828125,
          144.89999389648438,
          146.83999633789062,
          149.1699981689453,
          149.75,
          149.63999938964844,
          150.17999267578125,
          149.3699951171875,
          150.83999633789062,
          149.72999572753906,
          153.1699981689453,
          149.94000244140625,
          149.6999969482422,
          151.57000732421875,
          151.97000122070312,
          152.42999267578125,
          152.1999969482422,
          151.57000732421875,
          151.42999267578125,
          150.1300048828125,
          149.42999267578125,
          150.39999389648438,
          151.8800048828125,
          151.49000549316406,
          155,
          158.6699981689453,
          161.02000427246094,
          165.6999969482422,
          161.8000030517578,
          162.13999938964844,
          160.4499969482422,
          161.19000244140625,
          165.52000427246094,
          170.3000030517578,
          164.1999969482422,
          164.9600067138672,
          167.8800048828125,
          171.5800018310547,
          175.9600067138672,
          176.75,
          179.6300048828125,
          182.1300048828125,
          177.74000549316406,
          179.5,
          181.13999938964844,
          173.47000122070312,
          170.5800018310547,
          173.1999969482422,
          175.86000061035156,
          176.85000610351562,
          180.4199981689453,
          181.3300018310547,
          180.6300048828125,
          180.57000732421875,
          179.22999572753906,
          182.8800048828125,
          182.94000244140625,
          180.1699981689453,
          175.3000030517578,
          174.13999938964844,
          172.5,
          175.17999267578125,
          177.17999267578125,
          176.6199951171875,
          173.77999877929688,
          172.5399932861328,
          171.0800018310547,
          169.67999267578125,
          166.3300018310547,
          162.3000030517578,
          162.75999450683594,
          164.38999938964844,
          163.83999633789062,
          170.35000610351562,
          175,
          174.83999633789062,
          175.8800048828125,
          176.24000549316406,
          174.10000610351562,
          173.9499969482422,
          175.35000610351562,
          176.64999389648438,
          175.47999572753906,
          173.0800018310547,
          169.5800018310547,
          172.9499969482422,
          173.33999633789062,
          171.91000366210938,
          170.5399932861328,
          166.69000244140625,
          166.14999389648438,
          162.85000610351562,
          165.1199951171875,
          165.4199981689453,
          166.60000610351562,
          167.36000061035156,
          168.91000366210938,
          165.5500030517578,
          165.02000427246094,
          162.8800048828125,
          163.41000366210938,
          160.38999938964844,
          159.27999877929688,
          154.1199951171875,
          155.57000732421875,
          160,
          161,
          164.47999572753906,
          164.47999572753906
         ],
         "low": [
          131.72000122070312,
          126.76000213623047,
          128.42999267578125,
          126.37999725341797,
          127.86000061035156,
          130.22999572753906,
          128.5,
          126.86000061035156,
          128.49000549316406,
          128.75999450683594,
          127,
          126.94000244140625,
          128.5500030517578,
          133.58999633789062,
          135.02000427246094,
          136.5399932861328,
          141.3699951171875,
          140.41000366210938,
          136.6999969482422,
          130.2100067138672,
          130.92999267578125,
          134.61000061035156,
          133.61000061035156,
          134.58999633789062,
          135.86000061035156,
          134.9199981689453,
          135.85000610351562,
          134.39999389648438,
          133.77000427246094,
          133.69000244140625,
          132.7899932861328,
          129.47000122070312,
          127.41000366210938,
          128.8000030517578,
          125.5999984741211,
          118.38999938964844,
          122.2300033569336,
          120.54000091552734,
          121.19999694824219,
          122.79000091552734,
          125.01000213623047,
          121.83999633789062,
          118.62000274658203,
          117.56999969482422,
          116.20999908447266,
          118.79000091552734,
          119.44999694824219,
          121.26000213623047,
          119.16000366210938,
          120.41999816894531,
          124.72000122070312,
          122.33999633789062,
          120.31999969482422,
          119.68000030517578,
          120.26000213623047,
          122.13999938964844,
          120.06999969482422,
          119,
          118.91999816894531,
          120.7300033569336,
          118.86000061035156,
          121.1500015258789,
          122.48999786376953,
          123.06999969482422,
          125.6500015258789,
          125.13999938964844,
          128.52000427246094,
          129.47000122070312,
          130.6300048828125,
          131.92999267578125,
          131.66000366210938,
          133.63999938964844,
          133.27999877929688,
          133.33999633789062,
          131.80999755859375,
          131.3000030517578,
          131.41000366210938,
          132.16000366210938,
          133.55999755859375,
          134.11000061035156,
          133.0800018310547,
          132.4499969482422,
          131.07000732421875,
          131.8300018310547,
          126.69999694824219,
          127.97000122070312,
          127.12999725341797,
          129.47999572753906,
          126.80999755859375,
          122.7699966430664,
          122.25,
          124.26000213623047,
          125.8499984741211,
          125.16999816894531,
          124.77999877929688,
          122.86000061035156,
          125.0999984741211,
          125.20999908447266,
          125.94000244140625,
          126.31999969482422,
          126.41999816894531,
          125.08000183105469,
          124.55000305175781,
          123.94000244140625,
          124.05000305175781,
          123.12999725341797,
          123.8499984741211,
          124.83000183105469,
          126.20999908447266,
          126.5199966430664,
          125.94000244140625,
          126.0999984741211,
          127.06999969482422,
          129.38999938964844,
          128.4600067138672,
          129.64999389648438,
          130.24000549316406,
          129.2100067138672,
          131.6199951171875,
          133.22999572753906,
          132.92999267578125,
          132.80999755859375,
          133.35000610351562,
          134.35000610351562,
          135.8699951171875,
          135.75999450683594,
          137.75,
          140.07000732421875,
          142.66000366210938,
          140.6699981689453,
          142.64999389648438,
          144,
          143.6300048828125,
          147.67999267578125,
          147.08999633789062,
          145.8800048828125,
          141.6699981689453,
          142.9600067138672,
          144.6300048828125,
          145.80999755859375,
          146.9199981689453,
          147.6999969482422,
          145.5500030517578,
          142.5399932861328,
          144.5800018310547,
          144.11000061035156,
          145.25,
          145.17999267578125,
          146.27999877929688,
          146.1699981689453,
          145.6300048828125,
          145.52000427246094,
          145.3000030517578,
          145.52999877929688,
          145.83999633789062,
          148.27000427246094,
          146.47000122070312,
          149.08999633789062,
          146.14999389648438,
          144.5,
          146.77999877929688,
          147.88999938964844,
          149.14999389648438,
          147.8000030517578,
          147.50999450683594,
          146.8300018310547,
          148.61000061035156,
          151.2899932861328,
          152.33999633789062,
          152.39999389648438,
          153.08999633789062,
          154.38999938964844,
          153.97999572753906,
          153.9499969482422,
          148.6999969482422,
          148.75,
          146.91000366210938,
          146.3699951171875,
          147.22000122070312,
          145.75999450683594,
          141.27000427246094,
          142.77999877929688,
          143.6999969482422,
          145.63999938964844,
          145.55999755859375,
          143.82000732421875,
          141.69000244140625,
          142.02999877929688,
          141.27999877929688,
          139.11000061035156,
          138.27000427246094,
          139.36000061035156,
          138.3699951171875,
          142.72000122070312,
          142.55999755859375,
          141.80999755859375,
          141.0399932861328,
          139.1999969482422,
          141.50999450683594,
          143.50999450683594,
          143.16000366210938,
          146.5500030517578,
          148.1199951171875,
          147.8699951171875,
          148.63999938964844,
          147.6199951171875,
          149.00999450683594,
          148.49000549316406,
          149.72000122070312,
          146.41000366210938,
          147.8000030517578,
          148.64999389648438,
          149.82000732421875,
          150.63999938964844,
          150.05999755859375,
          150.16000366210938,
          150.05999755859375,
          147.85000610351562,
          147.67999267578125,
          147.47999572753906,
          149.42999267578125,
          149.33999633789062,
          150.99000549316406,
          153.0500030517578,
          156.52999877929688,
          161,
          159.05999755859375,
          159.63999938964844,
          156.36000061035156,
          158.7899932861328,
          159.9199981689453,
          164.52999877929688,
          157.8000030517578,
          159.72000122070312,
          164.27999877929688,
          168.33999633789062,
          170.6999969482422,
          173.9199981689453,
          174.69000244140625,
          175.52999877929688,
          172.2100067138672,
          172.30999755859375,
          170.75,
          169.69000244140625,
          167.4600067138672,
          169.1199951171875,
          172.14999389648438,
          175.27000427246094,
          177.07000732421875,
          178.52999877929688,
          178.13999938964844,
          178.08999633789062,
          177.25999450683594,
          177.7100067138672,
          179.1199951171875,
          174.63999938964844,
          171.63999938964844,
          171.02999877929688,
          168.1699981689453,
          170.82000732421875,
          174.82000732421875,
          171.7899932861328,
          171.08999633789062,
          169.41000366210938,
          165.94000244140625,
          164.17999267578125,
          162.3000030517578,
          154.6999969482422,
          157.02000427246094,
          157.82000732421875,
          158.27999877929688,
          162.8000030517578,
          169.50999450683594,
          172.30999755859375,
          173.3300018310547,
          172.1199951171875,
          170.67999267578125,
          170.9499969482422,
          171.42999267578125,
          174.89999389648438,
          171.5500030517578,
          168.0399932861328,
          166.55999755859375,
          170.25,
          170.0500030517578,
          168.47000122070312,
          166.19000244140625,
          162.14999389648438,
          159.75,
          152,
          160.8699951171875,
          162.42999267578125,
          161.97000122070312,
          162.9499969482422,
          165.5500030517578,
          162.10000610351562,
          159.0399932861328,
          155.8000030517578,
          159.41000366210938,
          155.97999572753906,
          154.5,
          150.10000610351562,
          150.3800048828125,
          154.4600067138672,
          157.6300048828125,
          159.75999450683594,
          159.75999450683594
         ],
         "open": [
          134.0800018310547,
          133.52000427246094,
          128.88999938964844,
          127.72000122070312,
          128.36000061035156,
          132.42999267578125,
          129.19000244140625,
          128.5,
          128.75999450683594,
          130.8000030517578,
          128.77999877929688,
          127.77999877929688,
          128.66000366210938,
          133.8000030517578,
          136.27999877929688,
          143.07000732421875,
          143.60000610351562,
          143.42999267578125,
          139.52000427246094,
          135.8300018310547,
          133.75,
          135.72999572753906,
          135.75999450683594,
          136.3000030517578,
          137.35000610351562,
          136.02999877929688,
          136.6199951171875,
          136.47999572753906,
          135.89999389648438,
          134.35000610351562,
          135.49000549316406,
          131.25,
          129.1999969482422,
          130.24000549316406,
          128.00999450683594,
          123.76000213623047,
          124.94000244140625,
          124.68000030517578,
          122.58999633789062,
          123.75,
          128.41000366210938,
          124.80999755859375,
          121.75,
          120.9800033569336,
          120.93000030517578,
          119.02999877929688,
          121.69000244140625,
          122.54000091552734,
          120.4000015258789,
          121.41000366210938,
          125.69999694824219,
          124.05000305175781,
          122.87999725341797,
          119.9000015258789,
          120.33000183105469,
          123.33000183105469,
          122.81999969482422,
          119.54000091552734,
          120.3499984741211,
          121.6500015258789,
          120.11000061035156,
          121.6500015258789,
          123.66000366210938,
          123.87000274658203,
          126.5,
          125.83000183105469,
          128.9499969482422,
          129.8000030517578,
          132.52000427246094,
          132.44000244140625,
          134.94000244140625,
          133.82000732421875,
          134.3000030517578,
          133.50999450683594,
          135.02000427246094,
          132.36000061035156,
          133.0399932861328,
          132.16000366210938,
          134.8300018310547,
          135.00999450683594,
          134.30999755859375,
          136.47000122070312,
          131.77999877929688,
          132.0399932861328,
          131.19000244140625,
          129.1999969482422,
          127.88999938964844,
          130.85000610351562,
          129.41000366210938,
          123.5,
          123.4000015258789,
          124.58000183105469,
          126.25,
          126.81999969482422,
          126.55999755859375,
          123.16000366210938,
          125.2300033569336,
          127.81999969482422,
          126.01000213623047,
          127.81999969482422,
          126.95999908447266,
          126.44000244140625,
          125.56999969482422,
          125.08000183105469,
          124.27999877929688,
          124.68000030517578,
          124.06999969482422,
          126.16999816894531,
          126.5999984741211,
          127.20999908447266,
          127.0199966430664,
          126.52999877929688,
          127.81999969482422,
          129.94000244140625,
          130.3699951171875,
          129.8000030517578,
          130.7100067138672,
          130.3000030517578,
          132.1300048828125,
          133.77000427246094,
          134.4499969482422,
          133.4600067138672,
          133.41000366210938,
          134.8000030517578,
          136.1699981689453,
          136.60000610351562,
          137.89999389648438,
          140.07000732421875,
          143.5399932861328,
          141.5800018310547,
          142.75,
          146.2100067138672,
          144.02999877929688,
          148.10000610351562,
          149.24000549316406,
          148.4600067138672,
          143.75,
          143.4600067138672,
          145.52999877929688,
          145.94000244140625,
          147.5500030517578,
          148.27000427246094,
          149.1199951171875,
          144.80999755859375,
          144.69000244140625,
          144.3800048828125,
          146.36000061035156,
          145.80999755859375,
          147.27000427246094,
          146.97999572753906,
          146.35000610351562,
          146.1999969482422,
          146.44000244140625,
          146.0500030517578,
          146.19000244140625,
          148.97000122070312,
          148.5399932861328,
          150.22999572753906,
          149.8000030517578,
          145.02999877929688,
          147.44000244140625,
          148.30999755859375,
          149.4499969482422,
          149.80999755859375,
          148.35000610351562,
          147.47999572753906,
          149,
          152.66000366210938,
          152.8300018310547,
          153.8699951171875,
          153.75999450683594,
          154.97000122070312,
          156.97999572753906,
          155.49000549316406,
          155,
          150.6300048828125,
          150.35000610351562,
          148.55999755859375,
          148.44000244140625,
          148.82000732421875,
          143.8000030517578,
          143.92999267578125,
          144.4499969482422,
          146.64999389648438,
          145.66000366210938,
          145.47000122070312,
          143.25,
          142.47000122070312,
          143.66000366210938,
          141.89999389648438,
          141.75999450683594,
          139.49000549316406,
          139.47000122070312,
          143.05999755859375,
          144.02999877929688,
          142.27000427246094,
          143.22999572753906,
          141.24000549316406,
          142.11000061035156,
          143.77000427246094,
          143.4499969482422,
          147.00999450683594,
          148.6999969482422,
          148.80999755859375,
          149.69000244140625,
          148.67999267578125,
          149.3300018310547,
          149.36000061035156,
          149.82000732421875,
          147.22000122070312,
          148.99000549316406,
          148.66000366210938,
          150.38999938964844,
          151.5800018310547,
          151.88999938964844,
          151.41000366210938,
          150.1999969482422,
          150.02000427246094,
          148.9600067138672,
          148.42999267578125,
          150.3699951171875,
          149.94000244140625,
          151,
          153.7100067138672,
          157.64999389648438,
          161.67999267578125,
          161.1199951171875,
          160.75,
          159.57000732421875,
          159.3699951171875,
          159.99000549316406,
          167.47999572753906,
          158.74000549316406,
          164.02000427246094,
          164.2899932861328,
          169.0800018310547,
          172.1300048828125,
          174.91000366210938,
          175.2100067138672,
          181.1199951171875,
          175.25,
          175.11000061035156,
          179.27999877929688,
          169.92999267578125,
          168.27999877929688,
          171.55999755859375,
          173.0399932861328,
          175.85000610351562,
          177.08999633789062,
          180.16000366210938,
          179.3300018310547,
          179.47000122070312,
          178.08999633789062,
          177.8300018310547,
          182.6300048828125,
          179.61000061035156,
          172.6999969482422,
          172.88999938964844,
          169.0800018310547,
          172.32000732421875,
          176.1199951171875,
          175.77999877929688,
          171.33999633789062,
          171.50999450683594,
          170,
          166.97999572753906,
          164.4199981689453,
          160.02000427246094,
          158.97999572753906,
          163.5,
          162.4499969482422,
          165.7100067138672,
          170.16000366210938,
          174.00999450683594,
          174.75,
          174.47999572753906,
          171.67999267578125,
          172.86000061035156,
          171.72999572753906,
          176.0500030517578,
          174.13999938964844,
          172.3300018310547,
          167.3699951171875,
          170.97000122070312,
          171.85000610351562,
          171.02999877929688,
          169.82000732421875,
          164.97999572753906,
          165.5399932861328,
          152.5800018310547,
          163.83999633789062,
          163.05999755859375,
          164.6999969482422,
          164.38999938964844,
          168.47000122070312,
          164.49000549316406,
          163.36000061035156,
          158.82000732421875,
          161.47999572753906,
          160.1999969482422,
          158.92999267578125,
          151.4499969482422,
          150.89999389648438,
          157.0500030517578,
          158.61000061035156,
          160.50999450683594,
          160.50999450683594
         ],
         "type": "candlestick",
         "x": [
          "2020-12-31T00:00:00",
          "2021-01-04T00:00:00",
          "2021-01-05T00:00:00",
          "2021-01-06T00:00:00",
          "2021-01-07T00:00:00",
          "2021-01-08T00:00:00",
          "2021-01-11T00:00:00",
          "2021-01-12T00:00:00",
          "2021-01-13T00:00:00",
          "2021-01-14T00:00:00",
          "2021-01-15T00:00:00",
          "2021-01-19T00:00:00",
          "2021-01-20T00:00:00",
          "2021-01-21T00:00:00",
          "2021-01-22T00:00:00",
          "2021-01-25T00:00:00",
          "2021-01-26T00:00:00",
          "2021-01-27T00:00:00",
          "2021-01-28T00:00:00",
          "2021-01-29T00:00:00",
          "2021-02-01T00:00:00",
          "2021-02-02T00:00:00",
          "2021-02-03T00:00:00",
          "2021-02-04T00:00:00",
          "2021-02-05T00:00:00",
          "2021-02-08T00:00:00",
          "2021-02-09T00:00:00",
          "2021-02-10T00:00:00",
          "2021-02-11T00:00:00",
          "2021-02-12T00:00:00",
          "2021-02-16T00:00:00",
          "2021-02-17T00:00:00",
          "2021-02-18T00:00:00",
          "2021-02-19T00:00:00",
          "2021-02-22T00:00:00",
          "2021-02-23T00:00:00",
          "2021-02-24T00:00:00",
          "2021-02-25T00:00:00",
          "2021-02-26T00:00:00",
          "2021-03-01T00:00:00",
          "2021-03-02T00:00:00",
          "2021-03-03T00:00:00",
          "2021-03-04T00:00:00",
          "2021-03-05T00:00:00",
          "2021-03-08T00:00:00",
          "2021-03-09T00:00:00",
          "2021-03-10T00:00:00",
          "2021-03-11T00:00:00",
          "2021-03-12T00:00:00",
          "2021-03-15T00:00:00",
          "2021-03-16T00:00:00",
          "2021-03-17T00:00:00",
          "2021-03-18T00:00:00",
          "2021-03-19T00:00:00",
          "2021-03-22T00:00:00",
          "2021-03-23T00:00:00",
          "2021-03-24T00:00:00",
          "2021-03-25T00:00:00",
          "2021-03-26T00:00:00",
          "2021-03-29T00:00:00",
          "2021-03-30T00:00:00",
          "2021-03-31T00:00:00",
          "2021-04-01T00:00:00",
          "2021-04-05T00:00:00",
          "2021-04-06T00:00:00",
          "2021-04-07T00:00:00",
          "2021-04-08T00:00:00",
          "2021-04-09T00:00:00",
          "2021-04-12T00:00:00",
          "2021-04-13T00:00:00",
          "2021-04-14T00:00:00",
          "2021-04-15T00:00:00",
          "2021-04-16T00:00:00",
          "2021-04-19T00:00:00",
          "2021-04-20T00:00:00",
          "2021-04-21T00:00:00",
          "2021-04-22T00:00:00",
          "2021-04-23T00:00:00",
          "2021-04-26T00:00:00",
          "2021-04-27T00:00:00",
          "2021-04-28T00:00:00",
          "2021-04-29T00:00:00",
          "2021-04-30T00:00:00",
          "2021-05-03T00:00:00",
          "2021-05-04T00:00:00",
          "2021-05-05T00:00:00",
          "2021-05-06T00:00:00",
          "2021-05-07T00:00:00",
          "2021-05-10T00:00:00",
          "2021-05-11T00:00:00",
          "2021-05-12T00:00:00",
          "2021-05-13T00:00:00",
          "2021-05-14T00:00:00",
          "2021-05-17T00:00:00",
          "2021-05-18T00:00:00",
          "2021-05-19T00:00:00",
          "2021-05-20T00:00:00",
          "2021-05-21T00:00:00",
          "2021-05-24T00:00:00",
          "2021-05-25T00:00:00",
          "2021-05-26T00:00:00",
          "2021-05-27T00:00:00",
          "2021-05-28T00:00:00",
          "2021-06-01T00:00:00",
          "2021-06-02T00:00:00",
          "2021-06-03T00:00:00",
          "2021-06-04T00:00:00",
          "2021-06-07T00:00:00",
          "2021-06-08T00:00:00",
          "2021-06-09T00:00:00",
          "2021-06-10T00:00:00",
          "2021-06-11T00:00:00",
          "2021-06-14T00:00:00",
          "2021-06-15T00:00:00",
          "2021-06-16T00:00:00",
          "2021-06-17T00:00:00",
          "2021-06-18T00:00:00",
          "2021-06-21T00:00:00",
          "2021-06-22T00:00:00",
          "2021-06-23T00:00:00",
          "2021-06-24T00:00:00",
          "2021-06-25T00:00:00",
          "2021-06-28T00:00:00",
          "2021-06-29T00:00:00",
          "2021-06-30T00:00:00",
          "2021-07-01T00:00:00",
          "2021-07-02T00:00:00",
          "2021-07-06T00:00:00",
          "2021-07-07T00:00:00",
          "2021-07-08T00:00:00",
          "2021-07-09T00:00:00",
          "2021-07-12T00:00:00",
          "2021-07-13T00:00:00",
          "2021-07-14T00:00:00",
          "2021-07-15T00:00:00",
          "2021-07-16T00:00:00",
          "2021-07-19T00:00:00",
          "2021-07-20T00:00:00",
          "2021-07-21T00:00:00",
          "2021-07-22T00:00:00",
          "2021-07-23T00:00:00",
          "2021-07-26T00:00:00",
          "2021-07-27T00:00:00",
          "2021-07-28T00:00:00",
          "2021-07-29T00:00:00",
          "2021-07-30T00:00:00",
          "2021-08-02T00:00:00",
          "2021-08-03T00:00:00",
          "2021-08-04T00:00:00",
          "2021-08-05T00:00:00",
          "2021-08-06T00:00:00",
          "2021-08-09T00:00:00",
          "2021-08-10T00:00:00",
          "2021-08-11T00:00:00",
          "2021-08-12T00:00:00",
          "2021-08-13T00:00:00",
          "2021-08-16T00:00:00",
          "2021-08-17T00:00:00",
          "2021-08-18T00:00:00",
          "2021-08-19T00:00:00",
          "2021-08-20T00:00:00",
          "2021-08-23T00:00:00",
          "2021-08-24T00:00:00",
          "2021-08-25T00:00:00",
          "2021-08-26T00:00:00",
          "2021-08-27T00:00:00",
          "2021-08-30T00:00:00",
          "2021-08-31T00:00:00",
          "2021-09-01T00:00:00",
          "2021-09-02T00:00:00",
          "2021-09-03T00:00:00",
          "2021-09-07T00:00:00",
          "2021-09-08T00:00:00",
          "2021-09-09T00:00:00",
          "2021-09-10T00:00:00",
          "2021-09-13T00:00:00",
          "2021-09-14T00:00:00",
          "2021-09-15T00:00:00",
          "2021-09-16T00:00:00",
          "2021-09-17T00:00:00",
          "2021-09-20T00:00:00",
          "2021-09-21T00:00:00",
          "2021-09-22T00:00:00",
          "2021-09-23T00:00:00",
          "2021-09-24T00:00:00",
          "2021-09-27T00:00:00",
          "2021-09-28T00:00:00",
          "2021-09-29T00:00:00",
          "2021-09-30T00:00:00",
          "2021-10-01T00:00:00",
          "2021-10-04T00:00:00",
          "2021-10-05T00:00:00",
          "2021-10-06T00:00:00",
          "2021-10-07T00:00:00",
          "2021-10-08T00:00:00",
          "2021-10-11T00:00:00",
          "2021-10-12T00:00:00",
          "2021-10-13T00:00:00",
          "2021-10-14T00:00:00",
          "2021-10-15T00:00:00",
          "2021-10-18T00:00:00",
          "2021-10-19T00:00:00",
          "2021-10-20T00:00:00",
          "2021-10-21T00:00:00",
          "2021-10-22T00:00:00",
          "2021-10-25T00:00:00",
          "2021-10-26T00:00:00",
          "2021-10-27T00:00:00",
          "2021-10-28T00:00:00",
          "2021-10-29T00:00:00",
          "2021-11-01T00:00:00",
          "2021-11-02T00:00:00",
          "2021-11-03T00:00:00",
          "2021-11-04T00:00:00",
          "2021-11-05T00:00:00",
          "2021-11-08T00:00:00",
          "2021-11-09T00:00:00",
          "2021-11-10T00:00:00",
          "2021-11-11T00:00:00",
          "2021-11-12T00:00:00",
          "2021-11-15T00:00:00",
          "2021-11-16T00:00:00",
          "2021-11-17T00:00:00",
          "2021-11-18T00:00:00",
          "2021-11-19T00:00:00",
          "2021-11-22T00:00:00",
          "2021-11-23T00:00:00",
          "2021-11-24T00:00:00",
          "2021-11-26T00:00:00",
          "2021-11-29T00:00:00",
          "2021-11-30T00:00:00",
          "2021-12-01T00:00:00",
          "2021-12-02T00:00:00",
          "2021-12-03T00:00:00",
          "2021-12-06T00:00:00",
          "2021-12-07T00:00:00",
          "2021-12-08T00:00:00",
          "2021-12-09T00:00:00",
          "2021-12-10T00:00:00",
          "2021-12-13T00:00:00",
          "2021-12-14T00:00:00",
          "2021-12-15T00:00:00",
          "2021-12-16T00:00:00",
          "2021-12-17T00:00:00",
          "2021-12-20T00:00:00",
          "2021-12-21T00:00:00",
          "2021-12-22T00:00:00",
          "2021-12-23T00:00:00",
          "2021-12-27T00:00:00",
          "2021-12-28T00:00:00",
          "2021-12-29T00:00:00",
          "2021-12-30T00:00:00",
          "2021-12-31T00:00:00",
          "2022-01-03T00:00:00",
          "2022-01-04T00:00:00",
          "2022-01-05T00:00:00",
          "2022-01-06T00:00:00",
          "2022-01-07T00:00:00",
          "2022-01-10T00:00:00",
          "2022-01-11T00:00:00",
          "2022-01-12T00:00:00",
          "2022-01-13T00:00:00",
          "2022-01-14T00:00:00",
          "2022-01-18T00:00:00",
          "2022-01-19T00:00:00",
          "2022-01-20T00:00:00",
          "2022-01-21T00:00:00",
          "2022-01-24T00:00:00",
          "2022-01-25T00:00:00",
          "2022-01-26T00:00:00",
          "2022-01-27T00:00:00",
          "2022-01-28T00:00:00",
          "2022-01-31T00:00:00",
          "2022-02-01T00:00:00",
          "2022-02-02T00:00:00",
          "2022-02-03T00:00:00",
          "2022-02-04T00:00:00",
          "2022-02-07T00:00:00",
          "2022-02-08T00:00:00",
          "2022-02-09T00:00:00",
          "2022-02-10T00:00:00",
          "2022-02-11T00:00:00",
          "2022-02-14T00:00:00",
          "2022-02-15T00:00:00",
          "2022-02-16T00:00:00",
          "2022-02-17T00:00:00",
          "2022-02-18T00:00:00",
          "2022-02-22T00:00:00",
          "2022-02-23T00:00:00",
          "2022-02-24T00:00:00",
          "2022-02-25T00:00:00",
          "2022-02-28T00:00:00",
          "2022-03-01T00:00:00",
          "2022-03-02T00:00:00",
          "2022-03-03T00:00:00",
          "2022-03-04T00:00:00",
          "2022-03-07T00:00:00",
          "2022-03-08T00:00:00",
          "2022-03-09T00:00:00",
          "2022-03-10T00:00:00",
          "2022-03-11T00:00:00",
          "2022-03-14T00:00:00",
          "2022-03-15T00:00:00",
          "2022-03-16T00:00:00",
          "2022-03-17T00:00:00",
          "2022-03-18T00:00:00",
          "2022-03-18T00:00:00"
         ]
        }
       ],
       "layout": {
        "paper_bgcolor": "black",
        "plot_bgcolor": "black",
        "template": {
         "data": {
          "bar": [
           {
            "error_x": {
             "color": "#2a3f5f"
            },
            "error_y": {
             "color": "#2a3f5f"
            },
            "marker": {
             "line": {
              "color": "#E5ECF6",
              "width": 0.5
             },
             "pattern": {
              "fillmode": "overlay",
              "size": 10,
              "solidity": 0.2
             }
            },
            "type": "bar"
           }
          ],
          "barpolar": [
           {
            "marker": {
             "line": {
              "color": "#E5ECF6",
              "width": 0.5
             },
             "pattern": {
              "fillmode": "overlay",
              "size": 10,
              "solidity": 0.2
             }
            },
            "type": "barpolar"
           }
          ],
          "carpet": [
           {
            "aaxis": {
             "endlinecolor": "#2a3f5f",
             "gridcolor": "white",
             "linecolor": "white",
             "minorgridcolor": "white",
             "startlinecolor": "#2a3f5f"
            },
            "baxis": {
             "endlinecolor": "#2a3f5f",
             "gridcolor": "white",
             "linecolor": "white",
             "minorgridcolor": "white",
             "startlinecolor": "#2a3f5f"
            },
            "type": "carpet"
           }
          ],
          "choropleth": [
           {
            "colorbar": {
             "outlinewidth": 0,
             "ticks": ""
            },
            "type": "choropleth"
           }
          ],
          "contour": [
           {
            "colorbar": {
             "outlinewidth": 0,
             "ticks": ""
            },
            "colorscale": [
             [
              0,
              "#0d0887"
             ],
             [
              0.1111111111111111,
              "#46039f"
             ],
             [
              0.2222222222222222,
              "#7201a8"
             ],
             [
              0.3333333333333333,
              "#9c179e"
             ],
             [
              0.4444444444444444,
              "#bd3786"
             ],
             [
              0.5555555555555556,
              "#d8576b"
             ],
             [
              0.6666666666666666,
              "#ed7953"
             ],
             [
              0.7777777777777778,
              "#fb9f3a"
             ],
             [
              0.8888888888888888,
              "#fdca26"
             ],
             [
              1,
              "#f0f921"
             ]
            ],
            "type": "contour"
           }
          ],
          "contourcarpet": [
           {
            "colorbar": {
             "outlinewidth": 0,
             "ticks": ""
            },
            "type": "contourcarpet"
           }
          ],
          "heatmap": [
           {
            "colorbar": {
             "outlinewidth": 0,
             "ticks": ""
            },
            "colorscale": [
             [
              0,
              "#0d0887"
             ],
             [
              0.1111111111111111,
              "#46039f"
             ],
             [
              0.2222222222222222,
              "#7201a8"
             ],
             [
              0.3333333333333333,
              "#9c179e"
             ],
             [
              0.4444444444444444,
              "#bd3786"
             ],
             [
              0.5555555555555556,
              "#d8576b"
             ],
             [
              0.6666666666666666,
              "#ed7953"
             ],
             [
              0.7777777777777778,
              "#fb9f3a"
             ],
             [
              0.8888888888888888,
              "#fdca26"
             ],
             [
              1,
              "#f0f921"
             ]
            ],
            "type": "heatmap"
           }
          ],
          "heatmapgl": [
           {
            "colorbar": {
             "outlinewidth": 0,
             "ticks": ""
            },
            "colorscale": [
             [
              0,
              "#0d0887"
             ],
             [
              0.1111111111111111,
              "#46039f"
             ],
             [
              0.2222222222222222,
              "#7201a8"
             ],
             [
              0.3333333333333333,
              "#9c179e"
             ],
             [
              0.4444444444444444,
              "#bd3786"
             ],
             [
              0.5555555555555556,
              "#d8576b"
             ],
             [
              0.6666666666666666,
              "#ed7953"
             ],
             [
              0.7777777777777778,
              "#fb9f3a"
             ],
             [
              0.8888888888888888,
              "#fdca26"
             ],
             [
              1,
              "#f0f921"
             ]
            ],
            "type": "heatmapgl"
           }
          ],
          "histogram": [
           {
            "marker": {
             "pattern": {
              "fillmode": "overlay",
              "size": 10,
              "solidity": 0.2
             }
            },
            "type": "histogram"
           }
          ],
          "histogram2d": [
           {
            "colorbar": {
             "outlinewidth": 0,
             "ticks": ""
            },
            "colorscale": [
             [
              0,
              "#0d0887"
             ],
             [
              0.1111111111111111,
              "#46039f"
             ],
             [
              0.2222222222222222,
              "#7201a8"
             ],
             [
              0.3333333333333333,
              "#9c179e"
             ],
             [
              0.4444444444444444,
              "#bd3786"
             ],
             [
              0.5555555555555556,
              "#d8576b"
             ],
             [
              0.6666666666666666,
              "#ed7953"
             ],
             [
              0.7777777777777778,
              "#fb9f3a"
             ],
             [
              0.8888888888888888,
              "#fdca26"
             ],
             [
              1,
              "#f0f921"
             ]
            ],
            "type": "histogram2d"
           }
          ],
          "histogram2dcontour": [
           {
            "colorbar": {
             "outlinewidth": 0,
             "ticks": ""
            },
            "colorscale": [
             [
              0,
              "#0d0887"
             ],
             [
              0.1111111111111111,
              "#46039f"
             ],
             [
              0.2222222222222222,
              "#7201a8"
             ],
             [
              0.3333333333333333,
              "#9c179e"
             ],
             [
              0.4444444444444444,
              "#bd3786"
             ],
             [
              0.5555555555555556,
              "#d8576b"
             ],
             [
              0.6666666666666666,
              "#ed7953"
             ],
             [
              0.7777777777777778,
              "#fb9f3a"
             ],
             [
              0.8888888888888888,
              "#fdca26"
             ],
             [
              1,
              "#f0f921"
             ]
            ],
            "type": "histogram2dcontour"
           }
          ],
          "mesh3d": [
           {
            "colorbar": {
             "outlinewidth": 0,
             "ticks": ""
            },
            "type": "mesh3d"
           }
          ],
          "parcoords": [
           {
            "line": {
             "colorbar": {
              "outlinewidth": 0,
              "ticks": ""
             }
            },
            "type": "parcoords"
           }
          ],
          "pie": [
           {
            "automargin": true,
            "type": "pie"
           }
          ],
          "scatter": [
           {
            "marker": {
             "colorbar": {
              "outlinewidth": 0,
              "ticks": ""
             }
            },
            "type": "scatter"
           }
          ],
          "scatter3d": [
           {
            "line": {
             "colorbar": {
              "outlinewidth": 0,
              "ticks": ""
             }
            },
            "marker": {
             "colorbar": {
              "outlinewidth": 0,
              "ticks": ""
             }
            },
            "type": "scatter3d"
           }
          ],
          "scattercarpet": [
           {
            "marker": {
             "colorbar": {
              "outlinewidth": 0,
              "ticks": ""
             }
            },
            "type": "scattercarpet"
           }
          ],
          "scattergeo": [
           {
            "marker": {
             "colorbar": {
              "outlinewidth": 0,
              "ticks": ""
             }
            },
            "type": "scattergeo"
           }
          ],
          "scattergl": [
           {
            "marker": {
             "colorbar": {
              "outlinewidth": 0,
              "ticks": ""
             }
            },
            "type": "scattergl"
           }
          ],
          "scattermapbox": [
           {
            "marker": {
             "colorbar": {
              "outlinewidth": 0,
              "ticks": ""
             }
            },
            "type": "scattermapbox"
           }
          ],
          "scatterpolar": [
           {
            "marker": {
             "colorbar": {
              "outlinewidth": 0,
              "ticks": ""
             }
            },
            "type": "scatterpolar"
           }
          ],
          "scatterpolargl": [
           {
            "marker": {
             "colorbar": {
              "outlinewidth": 0,
              "ticks": ""
             }
            },
            "type": "scatterpolargl"
           }
          ],
          "scatterternary": [
           {
            "marker": {
             "colorbar": {
              "outlinewidth": 0,
              "ticks": ""
             }
            },
            "type": "scatterternary"
           }
          ],
          "surface": [
           {
            "colorbar": {
             "outlinewidth": 0,
             "ticks": ""
            },
            "colorscale": [
             [
              0,
              "#0d0887"
             ],
             [
              0.1111111111111111,
              "#46039f"
             ],
             [
              0.2222222222222222,
              "#7201a8"
             ],
             [
              0.3333333333333333,
              "#9c179e"
             ],
             [
              0.4444444444444444,
              "#bd3786"
             ],
             [
              0.5555555555555556,
              "#d8576b"
             ],
             [
              0.6666666666666666,
              "#ed7953"
             ],
             [
              0.7777777777777778,
              "#fb9f3a"
             ],
             [
              0.8888888888888888,
              "#fdca26"
             ],
             [
              1,
              "#f0f921"
             ]
            ],
            "type": "surface"
           }
          ],
          "table": [
           {
            "cells": {
             "fill": {
              "color": "#EBF0F8"
             },
             "line": {
              "color": "white"
             }
            },
            "header": {
             "fill": {
              "color": "#C8D4E3"
             },
             "line": {
              "color": "white"
             }
            },
            "type": "table"
           }
          ]
         },
         "layout": {
          "annotationdefaults": {
           "arrowcolor": "#2a3f5f",
           "arrowhead": 0,
           "arrowwidth": 1
          },
          "autotypenumbers": "strict",
          "coloraxis": {
           "colorbar": {
            "outlinewidth": 0,
            "ticks": ""
           }
          },
          "colorscale": {
           "diverging": [
            [
             0,
             "#8e0152"
            ],
            [
             0.1,
             "#c51b7d"
            ],
            [
             0.2,
             "#de77ae"
            ],
            [
             0.3,
             "#f1b6da"
            ],
            [
             0.4,
             "#fde0ef"
            ],
            [
             0.5,
             "#f7f7f7"
            ],
            [
             0.6,
             "#e6f5d0"
            ],
            [
             0.7,
             "#b8e186"
            ],
            [
             0.8,
             "#7fbc41"
            ],
            [
             0.9,
             "#4d9221"
            ],
            [
             1,
             "#276419"
            ]
           ],
           "sequential": [
            [
             0,
             "#0d0887"
            ],
            [
             0.1111111111111111,
             "#46039f"
            ],
            [
             0.2222222222222222,
             "#7201a8"
            ],
            [
             0.3333333333333333,
             "#9c179e"
            ],
            [
             0.4444444444444444,
             "#bd3786"
            ],
            [
             0.5555555555555556,
             "#d8576b"
            ],
            [
             0.6666666666666666,
             "#ed7953"
            ],
            [
             0.7777777777777778,
             "#fb9f3a"
            ],
            [
             0.8888888888888888,
             "#fdca26"
            ],
            [
             1,
             "#f0f921"
            ]
           ],
           "sequentialminus": [
            [
             0,
             "#0d0887"
            ],
            [
             0.1111111111111111,
             "#46039f"
            ],
            [
             0.2222222222222222,
             "#7201a8"
            ],
            [
             0.3333333333333333,
             "#9c179e"
            ],
            [
             0.4444444444444444,
             "#bd3786"
            ],
            [
             0.5555555555555556,
             "#d8576b"
            ],
            [
             0.6666666666666666,
             "#ed7953"
            ],
            [
             0.7777777777777778,
             "#fb9f3a"
            ],
            [
             0.8888888888888888,
             "#fdca26"
            ],
            [
             1,
             "#f0f921"
            ]
           ]
          },
          "colorway": [
           "#636efa",
           "#EF553B",
           "#00cc96",
           "#ab63fa",
           "#FFA15A",
           "#19d3f3",
           "#FF6692",
           "#B6E880",
           "#FF97FF",
           "#FECB52"
          ],
          "font": {
           "color": "#2a3f5f"
          },
          "geo": {
           "bgcolor": "white",
           "lakecolor": "white",
           "landcolor": "#E5ECF6",
           "showlakes": true,
           "showland": true,
           "subunitcolor": "white"
          },
          "hoverlabel": {
           "align": "left"
          },
          "hovermode": "closest",
          "mapbox": {
           "style": "light"
          },
          "paper_bgcolor": "white",
          "plot_bgcolor": "#E5ECF6",
          "polar": {
           "angularaxis": {
            "gridcolor": "white",
            "linecolor": "white",
            "ticks": ""
           },
           "bgcolor": "#E5ECF6",
           "radialaxis": {
            "gridcolor": "white",
            "linecolor": "white",
            "ticks": ""
           }
          },
          "scene": {
           "xaxis": {
            "backgroundcolor": "#E5ECF6",
            "gridcolor": "white",
            "gridwidth": 2,
            "linecolor": "white",
            "showbackground": true,
            "ticks": "",
            "zerolinecolor": "white"
           },
           "yaxis": {
            "backgroundcolor": "#E5ECF6",
            "gridcolor": "white",
            "gridwidth": 2,
            "linecolor": "white",
            "showbackground": true,
            "ticks": "",
            "zerolinecolor": "white"
           },
           "zaxis": {
            "backgroundcolor": "#E5ECF6",
            "gridcolor": "white",
            "gridwidth": 2,
            "linecolor": "white",
            "showbackground": true,
            "ticks": "",
            "zerolinecolor": "white"
           }
          },
          "shapedefaults": {
           "line": {
            "color": "#2a3f5f"
           }
          },
          "ternary": {
           "aaxis": {
            "gridcolor": "white",
            "linecolor": "white",
            "ticks": ""
           },
           "baxis": {
            "gridcolor": "white",
            "linecolor": "white",
            "ticks": ""
           },
           "bgcolor": "#E5ECF6",
           "caxis": {
            "gridcolor": "white",
            "linecolor": "white",
            "ticks": ""
           }
          },
          "title": {
           "x": 0.05
          },
          "xaxis": {
           "automargin": true,
           "gridcolor": "white",
           "linecolor": "white",
           "ticks": "",
           "title": {
            "standoff": 15
           },
           "zerolinecolor": "white",
           "zerolinewidth": 2
          },
          "yaxis": {
           "automargin": true,
           "gridcolor": "white",
           "linecolor": "white",
           "ticks": "",
           "title": {
            "standoff": 15
           },
           "zerolinecolor": "white",
           "zerolinewidth": 2
          }
         }
        }
       }
      }
     },
     "metadata": {},
     "output_type": "display_data"
    }
   ],
   "source": [
    "df.reset_index(inplace=True,drop=False)\n",
    "fig = go.Figure(data=[go.Candlestick(x=df['Date'],\n",
    "                open=df['Open'],\n",
    "                high=df['High'],\n",
    "                low=df['Low'],\n",
    "                close=df['Close'])])\n",
    "fig.update_layout(paper_bgcolor=\"black\",plot_bgcolor=\"black\")\n",
    "\n",
    "fig.show()\n",
    " "
   ]
  },
  {
   "cell_type": "code",
   "execution_count": 12,
   "id": "181128a8",
   "metadata": {},
   "outputs": [],
   "source": [
    " from pandas_profiling import ProfileReport"
   ]
  },
  {
   "cell_type": "code",
   "execution_count": 13,
   "id": "228392bc",
   "metadata": {},
   "outputs": [],
   "source": [
    "#profile = ProfileReport(df)\n",
    "\n",
    "#profile.to_file(output_file='Stocks1.html')"
   ]
  },
  {
   "cell_type": "markdown",
   "id": "6dfca926",
   "metadata": {},
   "source": [
    "# denoting the daily returns in the price of the stock"
   ]
  },
  {
   "cell_type": "code",
   "execution_count": 14,
   "id": "7a3cbae5",
   "metadata": {},
   "outputs": [
    {
     "data": {
      "text/html": [
       "<div>\n",
       "<style scoped>\n",
       "    .dataframe tbody tr th:only-of-type {\n",
       "        vertical-align: middle;\n",
       "    }\n",
       "\n",
       "    .dataframe tbody tr th {\n",
       "        vertical-align: top;\n",
       "    }\n",
       "\n",
       "    .dataframe thead th {\n",
       "        text-align: right;\n",
       "    }\n",
       "</style>\n",
       "<table border=\"1\" class=\"dataframe\">\n",
       "  <thead>\n",
       "    <tr style=\"text-align: right;\">\n",
       "      <th></th>\n",
       "      <th>Date</th>\n",
       "      <th>High</th>\n",
       "      <th>Low</th>\n",
       "      <th>Open</th>\n",
       "      <th>Close</th>\n",
       "      <th>Volume</th>\n",
       "      <th>Adj Close</th>\n",
       "      <th>Day_Perc_Change</th>\n",
       "    </tr>\n",
       "  </thead>\n",
       "  <tbody>\n",
       "    <tr>\n",
       "      <th>1</th>\n",
       "      <td>2021-01-04</td>\n",
       "      <td>133.610001</td>\n",
       "      <td>126.760002</td>\n",
       "      <td>133.520004</td>\n",
       "      <td>129.410004</td>\n",
       "      <td>143301900.0</td>\n",
       "      <td>128.453445</td>\n",
       "      <td>-2.471936</td>\n",
       "    </tr>\n",
       "    <tr>\n",
       "      <th>2</th>\n",
       "      <td>2021-01-05</td>\n",
       "      <td>131.740005</td>\n",
       "      <td>128.429993</td>\n",
       "      <td>128.889999</td>\n",
       "      <td>131.009995</td>\n",
       "      <td>97664900.0</td>\n",
       "      <td>130.041595</td>\n",
       "      <td>1.236362</td>\n",
       "    </tr>\n",
       "    <tr>\n",
       "      <th>3</th>\n",
       "      <td>2021-01-06</td>\n",
       "      <td>131.050003</td>\n",
       "      <td>126.379997</td>\n",
       "      <td>127.720001</td>\n",
       "      <td>126.599998</td>\n",
       "      <td>155088000.0</td>\n",
       "      <td>125.664223</td>\n",
       "      <td>-3.366133</td>\n",
       "    </tr>\n",
       "    <tr>\n",
       "      <th>4</th>\n",
       "      <td>2021-01-07</td>\n",
       "      <td>131.630005</td>\n",
       "      <td>127.860001</td>\n",
       "      <td>128.360001</td>\n",
       "      <td>130.919998</td>\n",
       "      <td>109578200.0</td>\n",
       "      <td>129.952286</td>\n",
       "      <td>3.412318</td>\n",
       "    </tr>\n",
       "    <tr>\n",
       "      <th>5</th>\n",
       "      <td>2021-01-08</td>\n",
       "      <td>132.630005</td>\n",
       "      <td>130.229996</td>\n",
       "      <td>132.429993</td>\n",
       "      <td>132.050003</td>\n",
       "      <td>105158200.0</td>\n",
       "      <td>131.073929</td>\n",
       "      <td>0.863119</td>\n",
       "    </tr>\n",
       "  </tbody>\n",
       "</table>\n",
       "</div>"
      ],
      "text/plain": [
       "        Date        High         Low        Open       Close       Volume  \\\n",
       "1 2021-01-04  133.610001  126.760002  133.520004  129.410004  143301900.0   \n",
       "2 2021-01-05  131.740005  128.429993  128.889999  131.009995   97664900.0   \n",
       "3 2021-01-06  131.050003  126.379997  127.720001  126.599998  155088000.0   \n",
       "4 2021-01-07  131.630005  127.860001  128.360001  130.919998  109578200.0   \n",
       "5 2021-01-08  132.630005  130.229996  132.429993  132.050003  105158200.0   \n",
       "\n",
       "    Adj Close  Day_Perc_Change  \n",
       "1  128.453445        -2.471936  \n",
       "2  130.041595         1.236362  \n",
       "3  125.664223        -3.366133  \n",
       "4  129.952286         3.412318  \n",
       "5  131.073929         0.863119  "
      ]
     },
     "execution_count": 14,
     "metadata": {},
     "output_type": "execute_result"
    }
   ],
   "source": [
    "df['Day_Perc_Change'] = df['Adj Close'].pct_change()*100\n",
    " \n",
    "df.dropna(axis =0 , inplace = True)\n",
    "df.head()"
   ]
  },
  {
   "cell_type": "code",
   "execution_count": 15,
   "id": "154a1cb3",
   "metadata": {},
   "outputs": [
    {
     "data": {
      "text/plain": [
       "<AxesSubplot:>"
      ]
     },
     "execution_count": 15,
     "metadata": {},
     "output_type": "execute_result"
    },
    {
     "data": {
      "image/png": "[encoded data removed]",
      "text/plain": [
       "<Figure size 864x432 with 1 Axes>"
      ]
     },
     "metadata": {
      "needs_background": "light"
     },
     "output_type": "display_data"
    }
   ],
   "source": [
    " df['Day_Perc_Change'].plot(figsize = (12, 6), fontsize = 12)"
   ]
  },
  {
   "cell_type": "code",
   "execution_count": 16,
   "id": "aaf1be89",
   "metadata": {},
   "outputs": [
    {
     "name": "stderr",
     "output_type": "stream",
     "text": [
      "C:\\Users\\prakhar\\AppData\\Local\\Temp\\ipykernel_12204\\1054008026.py:4: UserWarning:\n",
      "\n",
      "Matplotlib is currently using agg, which is a non-GUI backend, so cannot show the figure.\n",
      "\n"
     ]
    },
    {
     "data": {
      "text/plain": [
       "count    306.000000\n",
       "mean       0.085247\n",
       "std        1.654462\n",
       "min       -4.167349\n",
       "25%       -0.915073\n",
       "50%        0.030908\n",
       "75%        1.227003\n",
       "max        6.977762\n",
       "Name: Day_Perc_Change, dtype: float64"
      ]
     },
     "execution_count": 16,
     "metadata": {},
     "output_type": "execute_result"
    },
    {
     "data": {
      "image/png": "[encoded data removed]",
      "text/plain": [
       "<Figure size 720x360 with 1 Axes>"
      ]
     },
     "metadata": {
      "needs_background": "light"
     },
     "output_type": "display_data"
    }
   ],
   "source": [
    "df['Day_Perc_Change'].hist(bins = 100, figsize = (10,5)) \n",
    "plt.xlabel('Daily returns')\n",
    "plt.ylabel('Frequency')\n",
    "plt.show()\n",
    "#satistics\n",
    "df.Day_Perc_Change.describe()"
   ]
  },
  {
   "cell_type": "code",
   "execution_count": 17,
   "id": "43d09a67",
   "metadata": {},
   "outputs": [],
   "source": [
    " #The daily returns histogram is centered about origin.\n",
    "#For the past 2 years, the mean daily returns has been about 0.072 and\n",
    "#for most of the days the daily return wasless than 1% implying that the APPL\n",
    "#stock has been less volatile over the period. During the period, \n",
    "#the highest % change in positive direction was observed to be 6.97% and was 4.16%\n",
    "#in negative direction. Clearly, we didn’t had any instances of ‘bull run’ \n",
    "#or ‘bear drop’!"
   ]
  },
  {
   "cell_type": "code",
   "execution_count": 19,
   "id": "adb67f39",
   "metadata": {},
   "outputs": [
    {
     "ename": "ConnectionError",
     "evalue": "HTTPSConnectionPool(host='finance.yahoo.com', port=443): Read timed out.",
     "output_type": "error",
     "traceback": [
      "\u001b[1;31m---------------------------------------------------------------------------\u001b[0m",
      "\u001b[1;31mTimeoutError\u001b[0m                              Traceback (most recent call last)",
      "File \u001b[1;32m~\\AppData\\Local\\Programs\\Python\\Python310\\lib\\site-packages\\urllib3\\response.py:438\u001b[0m, in \u001b[0;36mHTTPResponse._error_catcher\u001b[1;34m(self)\u001b[0m\n\u001b[0;32m    <a href='file:///c%3A/Users/prakhar/AppData/Local/Programs/Python/Python310/lib/site-packages/urllib3/response.py?line=436'>437</a>\u001b[0m \u001b[39mtry\u001b[39;00m:\n\u001b[1;32m--> <a href='file:///c%3A/Users/prakhar/AppData/Local/Programs/Python/Python310/lib/site-packages/urllib3/response.py?line=437'>438</a>\u001b[0m     \u001b[39myield\u001b[39;00m\n\u001b[0;32m    <a href='file:///c%3A/Users/prakhar/AppData/Local/Programs/Python/Python310/lib/site-packages/urllib3/response.py?line=439'>440</a>\u001b[0m \u001b[39mexcept\u001b[39;00m SocketTimeout:\n\u001b[0;32m    <a href='file:///c%3A/Users/prakhar/AppData/Local/Programs/Python/Python310/lib/site-packages/urllib3/response.py?line=440'>441</a>\u001b[0m     \u001b[39m# FIXME: Ideally we'd like to include the url in the ReadTimeoutError but\u001b[39;00m\n\u001b[0;32m    <a href='file:///c%3A/Users/prakhar/AppData/Local/Programs/Python/Python310/lib/site-packages/urllib3/response.py?line=441'>442</a>\u001b[0m     \u001b[39m# there is yet no clean way to get at it from this context.\u001b[39;00m\n",
      "File \u001b[1;32m~\\AppData\\Local\\Programs\\Python\\Python310\\lib\\site-packages\\urllib3\\response.py:767\u001b[0m, in \u001b[0;36mHTTPResponse.read_chunked\u001b[1;34m(self, amt, decode_content)\u001b[0m\n\u001b[0;32m    <a href='file:///c%3A/Users/prakhar/AppData/Local/Programs/Python/Python310/lib/site-packages/urllib3/response.py?line=765'>766</a>\u001b[0m     \u001b[39mbreak\u001b[39;00m\n\u001b[1;32m--> <a href='file:///c%3A/Users/prakhar/AppData/Local/Programs/Python/Python310/lib/site-packages/urllib3/response.py?line=766'>767</a>\u001b[0m chunk \u001b[39m=\u001b[39m \u001b[39mself\u001b[39;49m\u001b[39m.\u001b[39;49m_handle_chunk(amt)\n\u001b[0;32m    <a href='file:///c%3A/Users/prakhar/AppData/Local/Programs/Python/Python310/lib/site-packages/urllib3/response.py?line=767'>768</a>\u001b[0m decoded \u001b[39m=\u001b[39m \u001b[39mself\u001b[39m\u001b[39m.\u001b[39m_decode(\n\u001b[0;32m    <a href='file:///c%3A/Users/prakhar/AppData/Local/Programs/Python/Python310/lib/site-packages/urllib3/response.py?line=768'>769</a>\u001b[0m     chunk, decode_content\u001b[39m=\u001b[39mdecode_content, flush_decoder\u001b[39m=\u001b[39m\u001b[39mFalse\u001b[39;00m\n\u001b[0;32m    <a href='file:///c%3A/Users/prakhar/AppData/Local/Programs/Python/Python310/lib/site-packages/urllib3/response.py?line=769'>770</a>\u001b[0m )\n",
      "File \u001b[1;32m~\\AppData\\Local\\Programs\\Python\\Python310\\lib\\site-packages\\urllib3\\response.py:711\u001b[0m, in \u001b[0;36mHTTPResponse._handle_chunk\u001b[1;34m(self, amt)\u001b[0m\n\u001b[0;32m    <a href='file:///c%3A/Users/prakhar/AppData/Local/Programs/Python/Python310/lib/site-packages/urllib3/response.py?line=709'>710</a>\u001b[0m \u001b[39melif\u001b[39;00m amt \u001b[39m<\u001b[39m \u001b[39mself\u001b[39m\u001b[39m.\u001b[39mchunk_left:\n\u001b[1;32m--> <a href='file:///c%3A/Users/prakhar/AppData/Local/Programs/Python/Python310/lib/site-packages/urllib3/response.py?line=710'>711</a>\u001b[0m     value \u001b[39m=\u001b[39m \u001b[39mself\u001b[39;49m\u001b[39m.\u001b[39;49m_fp\u001b[39m.\u001b[39;49m_safe_read(amt)\n\u001b[0;32m    <a href='file:///c%3A/Users/prakhar/AppData/Local/Programs/Python/Python310/lib/site-packages/urllib3/response.py?line=711'>712</a>\u001b[0m     \u001b[39mself\u001b[39m\u001b[39m.\u001b[39mchunk_left \u001b[39m=\u001b[39m \u001b[39mself\u001b[39m\u001b[39m.\u001b[39mchunk_left \u001b[39m-\u001b[39m amt\n",
      "File \u001b[1;32m~\\AppData\\Local\\Programs\\Python\\Python310\\lib\\http\\client.py:630\u001b[0m, in \u001b[0;36mHTTPResponse._safe_read\u001b[1;34m(self, amt)\u001b[0m\n\u001b[0;32m    <a href='file:///c%3A/Users/prakhar/AppData/Local/Programs/Python/Python310/lib/http/client.py?line=623'>624</a>\u001b[0m \u001b[39m\"\"\"Read the number of bytes requested.\u001b[39;00m\n\u001b[0;32m    <a href='file:///c%3A/Users/prakhar/AppData/Local/Programs/Python/Python310/lib/http/client.py?line=624'>625</a>\u001b[0m \n\u001b[0;32m    <a href='file:///c%3A/Users/prakhar/AppData/Local/Programs/Python/Python310/lib/http/client.py?line=625'>626</a>\u001b[0m \u001b[39mThis function should be used when <amt> bytes \"should\" be present for\u001b[39;00m\n\u001b[0;32m    <a href='file:///c%3A/Users/prakhar/AppData/Local/Programs/Python/Python310/lib/http/client.py?line=626'>627</a>\u001b[0m \u001b[39mreading. If the bytes are truly not available (due to EOF), then the\u001b[39;00m\n\u001b[0;32m    <a href='file:///c%3A/Users/prakhar/AppData/Local/Programs/Python/Python310/lib/http/client.py?line=627'>628</a>\u001b[0m \u001b[39mIncompleteRead exception can be used to detect the problem.\u001b[39;00m\n\u001b[0;32m    <a href='file:///c%3A/Users/prakhar/AppData/Local/Programs/Python/Python310/lib/http/client.py?line=628'>629</a>\u001b[0m \u001b[39m\"\"\"\u001b[39;00m\n\u001b[1;32m--> <a href='file:///c%3A/Users/prakhar/AppData/Local/Programs/Python/Python310/lib/http/client.py?line=629'>630</a>\u001b[0m data \u001b[39m=\u001b[39m \u001b[39mself\u001b[39;49m\u001b[39m.\u001b[39;49mfp\u001b[39m.\u001b[39;49mread(amt)\n\u001b[0;32m    <a href='file:///c%3A/Users/prakhar/AppData/Local/Programs/Python/Python310/lib/http/client.py?line=630'>631</a>\u001b[0m \u001b[39mif\u001b[39;00m \u001b[39mlen\u001b[39m(data) \u001b[39m<\u001b[39m amt:\n",
      "File \u001b[1;32m~\\AppData\\Local\\Programs\\Python\\Python310\\lib\\socket.py:705\u001b[0m, in \u001b[0;36mSocketIO.readinto\u001b[1;34m(self, b)\u001b[0m\n\u001b[0;32m    <a href='file:///c%3A/Users/prakhar/AppData/Local/Programs/Python/Python310/lib/socket.py?line=703'>704</a>\u001b[0m \u001b[39mtry\u001b[39;00m:\n\u001b[1;32m--> <a href='file:///c%3A/Users/prakhar/AppData/Local/Programs/Python/Python310/lib/socket.py?line=704'>705</a>\u001b[0m     \u001b[39mreturn\u001b[39;00m \u001b[39mself\u001b[39;49m\u001b[39m.\u001b[39;49m_sock\u001b[39m.\u001b[39;49mrecv_into(b)\n\u001b[0;32m    <a href='file:///c%3A/Users/prakhar/AppData/Local/Programs/Python/Python310/lib/socket.py?line=705'>706</a>\u001b[0m \u001b[39mexcept\u001b[39;00m timeout:\n",
      "File \u001b[1;32m~\\AppData\\Local\\Programs\\Python\\Python310\\lib\\ssl.py:1273\u001b[0m, in \u001b[0;36mSSLSocket.recv_into\u001b[1;34m(self, buffer, nbytes, flags)\u001b[0m\n\u001b[0;32m   <a href='file:///c%3A/Users/prakhar/AppData/Local/Programs/Python/Python310/lib/ssl.py?line=1269'>1270</a>\u001b[0m         \u001b[39mraise\u001b[39;00m \u001b[39mValueError\u001b[39;00m(\n\u001b[0;32m   <a href='file:///c%3A/Users/prakhar/AppData/Local/Programs/Python/Python310/lib/ssl.py?line=1270'>1271</a>\u001b[0m           \u001b[39m\"\u001b[39m\u001b[39mnon-zero flags not allowed in calls to recv_into() on \u001b[39m\u001b[39m%s\u001b[39;00m\u001b[39m\"\u001b[39m \u001b[39m%\u001b[39m\n\u001b[0;32m   <a href='file:///c%3A/Users/prakhar/AppData/Local/Programs/Python/Python310/lib/ssl.py?line=1271'>1272</a>\u001b[0m           \u001b[39mself\u001b[39m\u001b[39m.\u001b[39m\u001b[39m__class__\u001b[39m)\n\u001b[1;32m-> <a href='file:///c%3A/Users/prakhar/AppData/Local/Programs/Python/Python310/lib/ssl.py?line=1272'>1273</a>\u001b[0m     \u001b[39mreturn\u001b[39;00m \u001b[39mself\u001b[39;49m\u001b[39m.\u001b[39;49mread(nbytes, buffer)\n\u001b[0;32m   <a href='file:///c%3A/Users/prakhar/AppData/Local/Programs/Python/Python310/lib/ssl.py?line=1273'>1274</a>\u001b[0m \u001b[39melse\u001b[39;00m:\n",
      "File \u001b[1;32m~\\AppData\\Local\\Programs\\Python\\Python310\\lib\\ssl.py:1129\u001b[0m, in \u001b[0;36mSSLSocket.read\u001b[1;34m(self, len, buffer)\u001b[0m\n\u001b[0;32m   <a href='file:///c%3A/Users/prakhar/AppData/Local/Programs/Python/Python310/lib/ssl.py?line=1127'>1128</a>\u001b[0m \u001b[39mif\u001b[39;00m buffer \u001b[39mis\u001b[39;00m \u001b[39mnot\u001b[39;00m \u001b[39mNone\u001b[39;00m:\n\u001b[1;32m-> <a href='file:///c%3A/Users/prakhar/AppData/Local/Programs/Python/Python310/lib/ssl.py?line=1128'>1129</a>\u001b[0m     \u001b[39mreturn\u001b[39;00m \u001b[39mself\u001b[39;49m\u001b[39m.\u001b[39;49m_sslobj\u001b[39m.\u001b[39;49mread(\u001b[39mlen\u001b[39;49m, buffer)\n\u001b[0;32m   <a href='file:///c%3A/Users/prakhar/AppData/Local/Programs/Python/Python310/lib/ssl.py?line=1129'>1130</a>\u001b[0m \u001b[39melse\u001b[39;00m:\n",
      "\u001b[1;31mTimeoutError\u001b[0m: The read operation timed out",
      "\nDuring handling of the above exception, another exception occurred:\n",
      "\u001b[1;31mReadTimeoutError\u001b[0m                          Traceback (most recent call last)",
      "File \u001b[1;32m~\\AppData\\Local\\Programs\\Python\\Python310\\lib\\site-packages\\requests\\models.py:760\u001b[0m, in \u001b[0;36mResponse.iter_content.<locals>.generate\u001b[1;34m()\u001b[0m\n\u001b[0;32m    <a href='file:///c%3A/Users/prakhar/AppData/Local/Programs/Python/Python310/lib/site-packages/requests/models.py?line=758'>759</a>\u001b[0m \u001b[39mtry\u001b[39;00m:\n\u001b[1;32m--> <a href='file:///c%3A/Users/prakhar/AppData/Local/Programs/Python/Python310/lib/site-packages/requests/models.py?line=759'>760</a>\u001b[0m     \u001b[39mfor\u001b[39;00m chunk \u001b[39min\u001b[39;00m \u001b[39mself\u001b[39m\u001b[39m.\u001b[39mraw\u001b[39m.\u001b[39mstream(chunk_size, decode_content\u001b[39m=\u001b[39m\u001b[39mTrue\u001b[39;00m):\n\u001b[0;32m    <a href='file:///c%3A/Users/prakhar/AppData/Local/Programs/Python/Python310/lib/site-packages/requests/models.py?line=760'>761</a>\u001b[0m         \u001b[39myield\u001b[39;00m chunk\n",
      "File \u001b[1;32m~\\AppData\\Local\\Programs\\Python\\Python310\\lib\\site-packages\\urllib3\\response.py:572\u001b[0m, in \u001b[0;36mHTTPResponse.stream\u001b[1;34m(self, amt, decode_content)\u001b[0m\n\u001b[0;32m    <a href='file:///c%3A/Users/prakhar/AppData/Local/Programs/Python/Python310/lib/site-packages/urllib3/response.py?line=570'>571</a>\u001b[0m \u001b[39mif\u001b[39;00m \u001b[39mself\u001b[39m\u001b[39m.\u001b[39mchunked \u001b[39mand\u001b[39;00m \u001b[39mself\u001b[39m\u001b[39m.\u001b[39msupports_chunked_reads():\n\u001b[1;32m--> <a href='file:///c%3A/Users/prakhar/AppData/Local/Programs/Python/Python310/lib/site-packages/urllib3/response.py?line=571'>572</a>\u001b[0m     \u001b[39mfor\u001b[39;00m line \u001b[39min\u001b[39;00m \u001b[39mself\u001b[39m\u001b[39m.\u001b[39mread_chunked(amt, decode_content\u001b[39m=\u001b[39mdecode_content):\n\u001b[0;32m    <a href='file:///c%3A/Users/prakhar/AppData/Local/Programs/Python/Python310/lib/site-packages/urllib3/response.py?line=572'>573</a>\u001b[0m         \u001b[39myield\u001b[39;00m line\n",
      "File \u001b[1;32m~\\AppData\\Local\\Programs\\Python\\Python310\\lib\\site-packages\\urllib3\\response.py:752\u001b[0m, in \u001b[0;36mHTTPResponse.read_chunked\u001b[1;34m(self, amt, decode_content)\u001b[0m\n\u001b[0;32m    <a href='file:///c%3A/Users/prakhar/AppData/Local/Programs/Python/Python310/lib/site-packages/urllib3/response.py?line=746'>747</a>\u001b[0m     \u001b[39mraise\u001b[39;00m BodyNotHttplibCompatible(\n\u001b[0;32m    <a href='file:///c%3A/Users/prakhar/AppData/Local/Programs/Python/Python310/lib/site-packages/urllib3/response.py?line=747'>748</a>\u001b[0m         \u001b[39m\"\u001b[39m\u001b[39mBody should be http.client.HTTPResponse like. \u001b[39m\u001b[39m\"\u001b[39m\n\u001b[0;32m    <a href='file:///c%3A/Users/prakhar/AppData/Local/Programs/Python/Python310/lib/site-packages/urllib3/response.py?line=748'>749</a>\u001b[0m         \u001b[39m\"\u001b[39m\u001b[39mIt should have have an fp attribute which returns raw chunks.\u001b[39m\u001b[39m\"\u001b[39m\n\u001b[0;32m    <a href='file:///c%3A/Users/prakhar/AppData/Local/Programs/Python/Python310/lib/site-packages/urllib3/response.py?line=749'>750</a>\u001b[0m     )\n\u001b[1;32m--> <a href='file:///c%3A/Users/prakhar/AppData/Local/Programs/Python/Python310/lib/site-packages/urllib3/response.py?line=751'>752</a>\u001b[0m \u001b[39mwith\u001b[39;00m \u001b[39mself\u001b[39m\u001b[39m.\u001b[39m_error_catcher():\n\u001b[0;32m    <a href='file:///c%3A/Users/prakhar/AppData/Local/Programs/Python/Python310/lib/site-packages/urllib3/response.py?line=752'>753</a>\u001b[0m     \u001b[39m# Don't bother reading the body of a HEAD request.\u001b[39;00m\n\u001b[0;32m    <a href='file:///c%3A/Users/prakhar/AppData/Local/Programs/Python/Python310/lib/site-packages/urllib3/response.py?line=753'>754</a>\u001b[0m     \u001b[39mif\u001b[39;00m \u001b[39mself\u001b[39m\u001b[39m.\u001b[39m_original_response \u001b[39mand\u001b[39;00m is_response_to_head(\u001b[39mself\u001b[39m\u001b[39m.\u001b[39m_original_response):\n",
      "File \u001b[1;32m~\\AppData\\Local\\Programs\\Python\\Python310\\lib\\contextlib.py:153\u001b[0m, in \u001b[0;36m_GeneratorContextManager.__exit__\u001b[1;34m(self, typ, value, traceback)\u001b[0m\n\u001b[0;32m    <a href='file:///c%3A/Users/prakhar/AppData/Local/Programs/Python/Python310/lib/contextlib.py?line=151'>152</a>\u001b[0m \u001b[39mtry\u001b[39;00m:\n\u001b[1;32m--> <a href='file:///c%3A/Users/prakhar/AppData/Local/Programs/Python/Python310/lib/contextlib.py?line=152'>153</a>\u001b[0m     \u001b[39mself\u001b[39;49m\u001b[39m.\u001b[39;49mgen\u001b[39m.\u001b[39;49mthrow(typ, value, traceback)\n\u001b[0;32m    <a href='file:///c%3A/Users/prakhar/AppData/Local/Programs/Python/Python310/lib/contextlib.py?line=153'>154</a>\u001b[0m \u001b[39mexcept\u001b[39;00m \u001b[39mStopIteration\u001b[39;00m \u001b[39mas\u001b[39;00m exc:\n\u001b[0;32m    <a href='file:///c%3A/Users/prakhar/AppData/Local/Programs/Python/Python310/lib/contextlib.py?line=154'>155</a>\u001b[0m     \u001b[39m# Suppress StopIteration *unless* it's the same exception that\u001b[39;00m\n\u001b[0;32m    <a href='file:///c%3A/Users/prakhar/AppData/Local/Programs/Python/Python310/lib/contextlib.py?line=155'>156</a>\u001b[0m     \u001b[39m# was passed to throw().  This prevents a StopIteration\u001b[39;00m\n\u001b[0;32m    <a href='file:///c%3A/Users/prakhar/AppData/Local/Programs/Python/Python310/lib/contextlib.py?line=156'>157</a>\u001b[0m     \u001b[39m# raised inside the \"with\" statement from being suppressed.\u001b[39;00m\n",
      "File \u001b[1;32m~\\AppData\\Local\\Programs\\Python\\Python310\\lib\\site-packages\\urllib3\\response.py:443\u001b[0m, in \u001b[0;36mHTTPResponse._error_catcher\u001b[1;34m(self)\u001b[0m\n\u001b[0;32m    <a href='file:///c%3A/Users/prakhar/AppData/Local/Programs/Python/Python310/lib/site-packages/urllib3/response.py?line=439'>440</a>\u001b[0m \u001b[39mexcept\u001b[39;00m SocketTimeout:\n\u001b[0;32m    <a href='file:///c%3A/Users/prakhar/AppData/Local/Programs/Python/Python310/lib/site-packages/urllib3/response.py?line=440'>441</a>\u001b[0m     \u001b[39m# FIXME: Ideally we'd like to include the url in the ReadTimeoutError but\u001b[39;00m\n\u001b[0;32m    <a href='file:///c%3A/Users/prakhar/AppData/Local/Programs/Python/Python310/lib/site-packages/urllib3/response.py?line=441'>442</a>\u001b[0m     \u001b[39m# there is yet no clean way to get at it from this context.\u001b[39;00m\n\u001b[1;32m--> <a href='file:///c%3A/Users/prakhar/AppData/Local/Programs/Python/Python310/lib/site-packages/urllib3/response.py?line=442'>443</a>\u001b[0m     \u001b[39mraise\u001b[39;00m ReadTimeoutError(\u001b[39mself\u001b[39m\u001b[39m.\u001b[39m_pool, \u001b[39mNone\u001b[39;00m, \u001b[39m\"\u001b[39m\u001b[39mRead timed out.\u001b[39m\u001b[39m\"\u001b[39m)\n\u001b[0;32m    <a href='file:///c%3A/Users/prakhar/AppData/Local/Programs/Python/Python310/lib/site-packages/urllib3/response.py?line=444'>445</a>\u001b[0m \u001b[39mexcept\u001b[39;00m BaseSSLError \u001b[39mas\u001b[39;00m e:\n\u001b[0;32m    <a href='file:///c%3A/Users/prakhar/AppData/Local/Programs/Python/Python310/lib/site-packages/urllib3/response.py?line=445'>446</a>\u001b[0m     \u001b[39m# FIXME: Is there a better way to differentiate between SSLErrors?\u001b[39;00m\n",
      "\u001b[1;31mReadTimeoutError\u001b[0m: HTTPSConnectionPool(host='finance.yahoo.com', port=443): Read timed out.",
      "\nDuring handling of the above exception, another exception occurred:\n",
      "\u001b[1;31mConnectionError\u001b[0m                           Traceback (most recent call last)",
      "\u001b[1;32mc:\\Users\\prakhar\\OneDrive\\Desktop\\DAV Project\\stock.ipynb Cell 13'\u001b[0m in \u001b[0;36m<module>\u001b[1;34m\u001b[0m\n\u001b[0;32m      <a href='vscode-notebook-cell:/c%3A/Users/prakhar/OneDrive/Desktop/DAV%20Project/stock.ipynb#ch0000012?line=2'>3</a>\u001b[0m data \u001b[39m=\u001b[39m pd\u001b[39m.\u001b[39mDataFrame(columns\u001b[39m=\u001b[39mtickers_list)\n\u001b[0;32m      <a href='vscode-notebook-cell:/c%3A/Users/prakhar/OneDrive/Desktop/DAV%20Project/stock.ipynb#ch0000012?line=3'>4</a>\u001b[0m \u001b[39mfor\u001b[39;00m ticker \u001b[39min\u001b[39;00m tickers_list:\n\u001b[1;32m----> <a href='vscode-notebook-cell:/c%3A/Users/prakhar/OneDrive/Desktop/DAV%20Project/stock.ipynb#ch0000012?line=4'>5</a>\u001b[0m     data[ticker] \u001b[39m=\u001b[39m  web\u001b[39m.\u001b[39;49mDataReader( ticker,  \u001b[39m'\u001b[39;49m\u001b[39myahoo\u001b[39;49m\u001b[39m'\u001b[39;49m,  start, end)[\u001b[39m'\u001b[39m\u001b[39mAdj Close\u001b[39m\u001b[39m'\u001b[39m]\n\u001b[0;32m      <a href='vscode-notebook-cell:/c%3A/Users/prakhar/OneDrive/Desktop/DAV%20Project/stock.ipynb#ch0000012?line=6'>7</a>\u001b[0m \u001b[39m# Print first 5 rows of the data\u001b[39;00m\n\u001b[0;32m      <a href='vscode-notebook-cell:/c%3A/Users/prakhar/OneDrive/Desktop/DAV%20Project/stock.ipynb#ch0000012?line=7'>8</a>\u001b[0m data\u001b[39m.\u001b[39mhead\n",
      "File \u001b[1;32m~\\AppData\\Local\\Programs\\Python\\Python310\\lib\\site-packages\\pandas\\util\\_decorators.py:207\u001b[0m, in \u001b[0;36mdeprecate_kwarg.<locals>._deprecate_kwarg.<locals>.wrapper\u001b[1;34m(*args, **kwargs)\u001b[0m\n\u001b[0;32m    <a href='file:///c%3A/Users/prakhar/AppData/Local/Programs/Python/Python310/lib/site-packages/pandas/util/_decorators.py?line=204'>205</a>\u001b[0m     \u001b[39melse\u001b[39;00m:\n\u001b[0;32m    <a href='file:///c%3A/Users/prakhar/AppData/Local/Programs/Python/Python310/lib/site-packages/pandas/util/_decorators.py?line=205'>206</a>\u001b[0m         kwargs[new_arg_name] \u001b[39m=\u001b[39m new_arg_value\n\u001b[1;32m--> <a href='file:///c%3A/Users/prakhar/AppData/Local/Programs/Python/Python310/lib/site-packages/pandas/util/_decorators.py?line=206'>207</a>\u001b[0m \u001b[39mreturn\u001b[39;00m func(\u001b[39m*\u001b[39margs, \u001b[39m*\u001b[39m\u001b[39m*\u001b[39mkwargs)\n",
      "File \u001b[1;32m~\\AppData\\Local\\Programs\\Python\\Python310\\lib\\site-packages\\pandas_datareader\\data.py:379\u001b[0m, in \u001b[0;36mDataReader\u001b[1;34m(name, data_source, start, end, retry_count, pause, session, api_key)\u001b[0m\n\u001b[0;32m    <a href='file:///c%3A/Users/prakhar/AppData/Local/Programs/Python/Python310/lib/site-packages/pandas_datareader/data.py?line=366'>367</a>\u001b[0m     \u001b[39mraise\u001b[39;00m \u001b[39mNotImplementedError\u001b[39;00m(msg)\n\u001b[0;32m    <a href='file:///c%3A/Users/prakhar/AppData/Local/Programs/Python/Python310/lib/site-packages/pandas_datareader/data.py?line=368'>369</a>\u001b[0m \u001b[39mif\u001b[39;00m data_source \u001b[39m==\u001b[39m \u001b[39m\"\u001b[39m\u001b[39myahoo\u001b[39m\u001b[39m\"\u001b[39m:\n\u001b[0;32m    <a href='file:///c%3A/Users/prakhar/AppData/Local/Programs/Python/Python310/lib/site-packages/pandas_datareader/data.py?line=369'>370</a>\u001b[0m     \u001b[39mreturn\u001b[39;00m YahooDailyReader(\n\u001b[0;32m    <a href='file:///c%3A/Users/prakhar/AppData/Local/Programs/Python/Python310/lib/site-packages/pandas_datareader/data.py?line=370'>371</a>\u001b[0m         symbols\u001b[39m=\u001b[39;49mname,\n\u001b[0;32m    <a href='file:///c%3A/Users/prakhar/AppData/Local/Programs/Python/Python310/lib/site-packages/pandas_datareader/data.py?line=371'>372</a>\u001b[0m         start\u001b[39m=\u001b[39;49mstart,\n\u001b[0;32m    <a href='file:///c%3A/Users/prakhar/AppData/Local/Programs/Python/Python310/lib/site-packages/pandas_datareader/data.py?line=372'>373</a>\u001b[0m         end\u001b[39m=\u001b[39;49mend,\n\u001b[0;32m    <a href='file:///c%3A/Users/prakhar/AppData/Local/Programs/Python/Python310/lib/site-packages/pandas_datareader/data.py?line=373'>374</a>\u001b[0m         adjust_price\u001b[39m=\u001b[39;49m\u001b[39mFalse\u001b[39;49;00m,\n\u001b[0;32m    <a href='file:///c%3A/Users/prakhar/AppData/Local/Programs/Python/Python310/lib/site-packages/pandas_datareader/data.py?line=374'>375</a>\u001b[0m         chunksize\u001b[39m=\u001b[39;49m\u001b[39m25\u001b[39;49m,\n\u001b[0;32m    <a href='file:///c%3A/Users/prakhar/AppData/Local/Programs/Python/Python310/lib/site-packages/pandas_datareader/data.py?line=375'>376</a>\u001b[0m         retry_count\u001b[39m=\u001b[39;49mretry_count,\n\u001b[0;32m    <a href='file:///c%3A/Users/prakhar/AppData/Local/Programs/Python/Python310/lib/site-packages/pandas_datareader/data.py?line=376'>377</a>\u001b[0m         pause\u001b[39m=\u001b[39;49mpause,\n\u001b[0;32m    <a href='file:///c%3A/Users/prakhar/AppData/Local/Programs/Python/Python310/lib/site-packages/pandas_datareader/data.py?line=377'>378</a>\u001b[0m         session\u001b[39m=\u001b[39;49msession,\n\u001b[1;32m--> <a href='file:///c%3A/Users/prakhar/AppData/Local/Programs/Python/Python310/lib/site-packages/pandas_datareader/data.py?line=378'>379</a>\u001b[0m     )\u001b[39m.\u001b[39;49mread()\n\u001b[0;32m    <a href='file:///c%3A/Users/prakhar/AppData/Local/Programs/Python/Python310/lib/site-packages/pandas_datareader/data.py?line=380'>381</a>\u001b[0m \u001b[39melif\u001b[39;00m data_source \u001b[39m==\u001b[39m \u001b[39m\"\u001b[39m\u001b[39miex\u001b[39m\u001b[39m\"\u001b[39m:\n\u001b[0;32m    <a href='file:///c%3A/Users/prakhar/AppData/Local/Programs/Python/Python310/lib/site-packages/pandas_datareader/data.py?line=381'>382</a>\u001b[0m     \u001b[39mreturn\u001b[39;00m IEXDailyReader(\n\u001b[0;32m    <a href='file:///c%3A/Users/prakhar/AppData/Local/Programs/Python/Python310/lib/site-packages/pandas_datareader/data.py?line=382'>383</a>\u001b[0m         symbols\u001b[39m=\u001b[39mname,\n\u001b[0;32m    <a href='file:///c%3A/Users/prakhar/AppData/Local/Programs/Python/Python310/lib/site-packages/pandas_datareader/data.py?line=383'>384</a>\u001b[0m         start\u001b[39m=\u001b[39mstart,\n\u001b[1;32m   (...)\u001b[0m\n\u001b[0;32m    <a href='file:///c%3A/Users/prakhar/AppData/Local/Programs/Python/Python310/lib/site-packages/pandas_datareader/data.py?line=389'>390</a>\u001b[0m         session\u001b[39m=\u001b[39msession,\n\u001b[0;32m    <a href='file:///c%3A/Users/prakhar/AppData/Local/Programs/Python/Python310/lib/site-packages/pandas_datareader/data.py?line=390'>391</a>\u001b[0m     )\u001b[39m.\u001b[39mread()\n",
      "File \u001b[1;32m~\\AppData\\Local\\Programs\\Python\\Python310\\lib\\site-packages\\pandas_datareader\\base.py:253\u001b[0m, in \u001b[0;36m_DailyBaseReader.read\u001b[1;34m(self)\u001b[0m\n\u001b[0;32m    <a href='file:///c%3A/Users/prakhar/AppData/Local/Programs/Python/Python310/lib/site-packages/pandas_datareader/base.py?line=250'>251</a>\u001b[0m \u001b[39m# If a single symbol, (e.g., 'GOOG')\u001b[39;00m\n\u001b[0;32m    <a href='file:///c%3A/Users/prakhar/AppData/Local/Programs/Python/Python310/lib/site-packages/pandas_datareader/base.py?line=251'>252</a>\u001b[0m \u001b[39mif\u001b[39;00m \u001b[39misinstance\u001b[39m(\u001b[39mself\u001b[39m\u001b[39m.\u001b[39msymbols, (string_types, \u001b[39mint\u001b[39m)):\n\u001b[1;32m--> <a href='file:///c%3A/Users/prakhar/AppData/Local/Programs/Python/Python310/lib/site-packages/pandas_datareader/base.py?line=252'>253</a>\u001b[0m     df \u001b[39m=\u001b[39m \u001b[39mself\u001b[39;49m\u001b[39m.\u001b[39;49m_read_one_data(\u001b[39mself\u001b[39;49m\u001b[39m.\u001b[39;49murl, params\u001b[39m=\u001b[39;49m\u001b[39mself\u001b[39;49m\u001b[39m.\u001b[39;49m_get_params(\u001b[39mself\u001b[39;49m\u001b[39m.\u001b[39;49msymbols))\n\u001b[0;32m    <a href='file:///c%3A/Users/prakhar/AppData/Local/Programs/Python/Python310/lib/site-packages/pandas_datareader/base.py?line=253'>254</a>\u001b[0m \u001b[39m# Or multiple symbols, (e.g., ['GOOG', 'AAPL', 'MSFT'])\u001b[39;00m\n\u001b[0;32m    <a href='file:///c%3A/Users/prakhar/AppData/Local/Programs/Python/Python310/lib/site-packages/pandas_datareader/base.py?line=254'>255</a>\u001b[0m \u001b[39melif\u001b[39;00m \u001b[39misinstance\u001b[39m(\u001b[39mself\u001b[39m\u001b[39m.\u001b[39msymbols, DataFrame):\n",
      "File \u001b[1;32m~\\AppData\\Local\\Programs\\Python\\Python310\\lib\\site-packages\\pandas_datareader\\yahoo\\daily.py:149\u001b[0m, in \u001b[0;36mYahooDailyReader._read_one_data\u001b[1;34m(self, url, params)\u001b[0m\n\u001b[0;32m    <a href='file:///c%3A/Users/prakhar/AppData/Local/Programs/Python/Python310/lib/site-packages/pandas_datareader/yahoo/daily.py?line=145'>146</a>\u001b[0m \u001b[39mdel\u001b[39;00m params[\u001b[39m\"\u001b[39m\u001b[39msymbol\u001b[39m\u001b[39m\"\u001b[39m]\n\u001b[0;32m    <a href='file:///c%3A/Users/prakhar/AppData/Local/Programs/Python/Python310/lib/site-packages/pandas_datareader/yahoo/daily.py?line=146'>147</a>\u001b[0m url \u001b[39m=\u001b[39m url\u001b[39m.\u001b[39mformat(symbol)\n\u001b[1;32m--> <a href='file:///c%3A/Users/prakhar/AppData/Local/Programs/Python/Python310/lib/site-packages/pandas_datareader/yahoo/daily.py?line=148'>149</a>\u001b[0m resp \u001b[39m=\u001b[39m \u001b[39mself\u001b[39;49m\u001b[39m.\u001b[39;49m_get_response(url, params\u001b[39m=\u001b[39;49mparams, headers\u001b[39m=\u001b[39;49m\u001b[39mself\u001b[39;49m\u001b[39m.\u001b[39;49mheaders)\n\u001b[0;32m    <a href='file:///c%3A/Users/prakhar/AppData/Local/Programs/Python/Python310/lib/site-packages/pandas_datareader/yahoo/daily.py?line=149'>150</a>\u001b[0m ptrn \u001b[39m=\u001b[39m \u001b[39mr\u001b[39m\u001b[39m\"\u001b[39m\u001b[39mroot\u001b[39m\u001b[39m\\\u001b[39m\u001b[39m.App\u001b[39m\u001b[39m\\\u001b[39m\u001b[39m.main = (.*?);\u001b[39m\u001b[39m\\\u001b[39m\u001b[39mn}\u001b[39m\u001b[39m\\\u001b[39m\u001b[39m(this\u001b[39m\u001b[39m\\\u001b[39m\u001b[39m)\u001b[39m\u001b[39m\\\u001b[39m\u001b[39m);\u001b[39m\u001b[39m\"\u001b[39m\n\u001b[0;32m    <a href='file:///c%3A/Users/prakhar/AppData/Local/Programs/Python/Python310/lib/site-packages/pandas_datareader/yahoo/daily.py?line=150'>151</a>\u001b[0m \u001b[39mtry\u001b[39;00m:\n",
      "File \u001b[1;32m~\\AppData\\Local\\Programs\\Python\\Python310\\lib\\site-packages\\pandas_datareader\\base.py:155\u001b[0m, in \u001b[0;36m_BaseReader._get_response\u001b[1;34m(self, url, params, headers)\u001b[0m\n\u001b[0;32m    <a href='file:///c%3A/Users/prakhar/AppData/Local/Programs/Python/Python310/lib/site-packages/pandas_datareader/base.py?line=152'>153</a>\u001b[0m last_response_text \u001b[39m=\u001b[39m \u001b[39m\"\u001b[39m\u001b[39m\"\u001b[39m\n\u001b[0;32m    <a href='file:///c%3A/Users/prakhar/AppData/Local/Programs/Python/Python310/lib/site-packages/pandas_datareader/base.py?line=153'>154</a>\u001b[0m \u001b[39mfor\u001b[39;00m _ \u001b[39min\u001b[39;00m \u001b[39mrange\u001b[39m(\u001b[39mself\u001b[39m\u001b[39m.\u001b[39mretry_count \u001b[39m+\u001b[39m \u001b[39m1\u001b[39m):\n\u001b[1;32m--> <a href='file:///c%3A/Users/prakhar/AppData/Local/Programs/Python/Python310/lib/site-packages/pandas_datareader/base.py?line=154'>155</a>\u001b[0m     response \u001b[39m=\u001b[39m \u001b[39mself\u001b[39;49m\u001b[39m.\u001b[39;49msession\u001b[39m.\u001b[39;49mget(\n\u001b[0;32m    <a href='file:///c%3A/Users/prakhar/AppData/Local/Programs/Python/Python310/lib/site-packages/pandas_datareader/base.py?line=155'>156</a>\u001b[0m         url, params\u001b[39m=\u001b[39;49mparams, headers\u001b[39m=\u001b[39;49mheaders, timeout\u001b[39m=\u001b[39;49m\u001b[39mself\u001b[39;49m\u001b[39m.\u001b[39;49mtimeout\n\u001b[0;32m    <a href='file:///c%3A/Users/prakhar/AppData/Local/Programs/Python/Python310/lib/site-packages/pandas_datareader/base.py?line=156'>157</a>\u001b[0m     )\n\u001b[0;32m    <a href='file:///c%3A/Users/prakhar/AppData/Local/Programs/Python/Python310/lib/site-packages/pandas_datareader/base.py?line=157'>158</a>\u001b[0m     \u001b[39mif\u001b[39;00m response\u001b[39m.\u001b[39mstatus_code \u001b[39m==\u001b[39m requests\u001b[39m.\u001b[39mcodes\u001b[39m.\u001b[39mok:\n\u001b[0;32m    <a href='file:///c%3A/Users/prakhar/AppData/Local/Programs/Python/Python310/lib/site-packages/pandas_datareader/base.py?line=158'>159</a>\u001b[0m         \u001b[39mreturn\u001b[39;00m response\n",
      "File \u001b[1;32m~\\AppData\\Local\\Programs\\Python\\Python310\\lib\\site-packages\\requests\\sessions.py:542\u001b[0m, in \u001b[0;36mSession.get\u001b[1;34m(self, url, **kwargs)\u001b[0m\n\u001b[0;32m    <a href='file:///c%3A/Users/prakhar/AppData/Local/Programs/Python/Python310/lib/site-packages/requests/sessions.py?line=533'>534</a>\u001b[0m \u001b[39mr\u001b[39m\u001b[39m\"\"\"Sends a GET request. Returns :class:`Response` object.\u001b[39;00m\n\u001b[0;32m    <a href='file:///c%3A/Users/prakhar/AppData/Local/Programs/Python/Python310/lib/site-packages/requests/sessions.py?line=534'>535</a>\u001b[0m \n\u001b[0;32m    <a href='file:///c%3A/Users/prakhar/AppData/Local/Programs/Python/Python310/lib/site-packages/requests/sessions.py?line=535'>536</a>\u001b[0m \u001b[39m:param url: URL for the new :class:`Request` object.\u001b[39;00m\n\u001b[0;32m    <a href='file:///c%3A/Users/prakhar/AppData/Local/Programs/Python/Python310/lib/site-packages/requests/sessions.py?line=536'>537</a>\u001b[0m \u001b[39m:param \\*\\*kwargs: Optional arguments that ``request`` takes.\u001b[39;00m\n\u001b[0;32m    <a href='file:///c%3A/Users/prakhar/AppData/Local/Programs/Python/Python310/lib/site-packages/requests/sessions.py?line=537'>538</a>\u001b[0m \u001b[39m:rtype: requests.Response\u001b[39;00m\n\u001b[0;32m    <a href='file:///c%3A/Users/prakhar/AppData/Local/Programs/Python/Python310/lib/site-packages/requests/sessions.py?line=538'>539</a>\u001b[0m \u001b[39m\"\"\"\u001b[39;00m\n\u001b[0;32m    <a href='file:///c%3A/Users/prakhar/AppData/Local/Programs/Python/Python310/lib/site-packages/requests/sessions.py?line=540'>541</a>\u001b[0m kwargs\u001b[39m.\u001b[39msetdefault(\u001b[39m'\u001b[39m\u001b[39mallow_redirects\u001b[39m\u001b[39m'\u001b[39m, \u001b[39mTrue\u001b[39;00m)\n\u001b[1;32m--> <a href='file:///c%3A/Users/prakhar/AppData/Local/Programs/Python/Python310/lib/site-packages/requests/sessions.py?line=541'>542</a>\u001b[0m \u001b[39mreturn\u001b[39;00m \u001b[39mself\u001b[39m\u001b[39m.\u001b[39mrequest(\u001b[39m'\u001b[39m\u001b[39mGET\u001b[39m\u001b[39m'\u001b[39m, url, \u001b[39m*\u001b[39m\u001b[39m*\u001b[39mkwargs)\n",
      "File \u001b[1;32m~\\AppData\\Local\\Programs\\Python\\Python310\\lib\\site-packages\\requests\\sessions.py:529\u001b[0m, in \u001b[0;36mSession.request\u001b[1;34m(self, method, url, params, data, headers, cookies, files, auth, timeout, allow_redirects, proxies, hooks, stream, verify, cert, json)\u001b[0m\n\u001b[0;32m    <a href='file:///c%3A/Users/prakhar/AppData/Local/Programs/Python/Python310/lib/site-packages/requests/sessions.py?line=523'>524</a>\u001b[0m send_kwargs \u001b[39m=\u001b[39m {\n\u001b[0;32m    <a href='file:///c%3A/Users/prakhar/AppData/Local/Programs/Python/Python310/lib/site-packages/requests/sessions.py?line=524'>525</a>\u001b[0m     \u001b[39m'\u001b[39m\u001b[39mtimeout\u001b[39m\u001b[39m'\u001b[39m: timeout,\n\u001b[0;32m    <a href='file:///c%3A/Users/prakhar/AppData/Local/Programs/Python/Python310/lib/site-packages/requests/sessions.py?line=525'>526</a>\u001b[0m     \u001b[39m'\u001b[39m\u001b[39mallow_redirects\u001b[39m\u001b[39m'\u001b[39m: allow_redirects,\n\u001b[0;32m    <a href='file:///c%3A/Users/prakhar/AppData/Local/Programs/Python/Python310/lib/site-packages/requests/sessions.py?line=526'>527</a>\u001b[0m }\n\u001b[0;32m    <a href='file:///c%3A/Users/prakhar/AppData/Local/Programs/Python/Python310/lib/site-packages/requests/sessions.py?line=527'>528</a>\u001b[0m send_kwargs\u001b[39m.\u001b[39mupdate(settings)\n\u001b[1;32m--> <a href='file:///c%3A/Users/prakhar/AppData/Local/Programs/Python/Python310/lib/site-packages/requests/sessions.py?line=528'>529</a>\u001b[0m resp \u001b[39m=\u001b[39m \u001b[39mself\u001b[39m\u001b[39m.\u001b[39msend(prep, \u001b[39m*\u001b[39m\u001b[39m*\u001b[39msend_kwargs)\n\u001b[0;32m    <a href='file:///c%3A/Users/prakhar/AppData/Local/Programs/Python/Python310/lib/site-packages/requests/sessions.py?line=530'>531</a>\u001b[0m \u001b[39mreturn\u001b[39;00m resp\n",
      "File \u001b[1;32m~\\AppData\\Local\\Programs\\Python\\Python310\\lib\\site-packages\\requests\\sessions.py:687\u001b[0m, in \u001b[0;36mSession.send\u001b[1;34m(self, request, **kwargs)\u001b[0m\n\u001b[0;32m    <a href='file:///c%3A/Users/prakhar/AppData/Local/Programs/Python/Python310/lib/site-packages/requests/sessions.py?line=683'>684</a>\u001b[0m         \u001b[39mpass\u001b[39;00m\n\u001b[0;32m    <a href='file:///c%3A/Users/prakhar/AppData/Local/Programs/Python/Python310/lib/site-packages/requests/sessions.py?line=685'>686</a>\u001b[0m \u001b[39mif\u001b[39;00m \u001b[39mnot\u001b[39;00m stream:\n\u001b[1;32m--> <a href='file:///c%3A/Users/prakhar/AppData/Local/Programs/Python/Python310/lib/site-packages/requests/sessions.py?line=686'>687</a>\u001b[0m     r\u001b[39m.\u001b[39;49mcontent\n\u001b[0;32m    <a href='file:///c%3A/Users/prakhar/AppData/Local/Programs/Python/Python310/lib/site-packages/requests/sessions.py?line=688'>689</a>\u001b[0m \u001b[39mreturn\u001b[39;00m r\n",
      "File \u001b[1;32m~\\AppData\\Local\\Programs\\Python\\Python310\\lib\\site-packages\\requests\\models.py:838\u001b[0m, in \u001b[0;36mResponse.content\u001b[1;34m(self)\u001b[0m\n\u001b[0;32m    <a href='file:///c%3A/Users/prakhar/AppData/Local/Programs/Python/Python310/lib/site-packages/requests/models.py?line=835'>836</a>\u001b[0m         \u001b[39mself\u001b[39m\u001b[39m.\u001b[39m_content \u001b[39m=\u001b[39m \u001b[39mNone\u001b[39;00m\n\u001b[0;32m    <a href='file:///c%3A/Users/prakhar/AppData/Local/Programs/Python/Python310/lib/site-packages/requests/models.py?line=836'>837</a>\u001b[0m     \u001b[39melse\u001b[39;00m:\n\u001b[1;32m--> <a href='file:///c%3A/Users/prakhar/AppData/Local/Programs/Python/Python310/lib/site-packages/requests/models.py?line=837'>838</a>\u001b[0m         \u001b[39mself\u001b[39m\u001b[39m.\u001b[39m_content \u001b[39m=\u001b[39m \u001b[39mb\u001b[39;49m\u001b[39m'\u001b[39;49m\u001b[39m'\u001b[39;49m\u001b[39m.\u001b[39;49mjoin(\u001b[39mself\u001b[39;49m\u001b[39m.\u001b[39;49miter_content(CONTENT_CHUNK_SIZE)) \u001b[39mor\u001b[39;00m \u001b[39mb\u001b[39m\u001b[39m'\u001b[39m\u001b[39m'\u001b[39m\n\u001b[0;32m    <a href='file:///c%3A/Users/prakhar/AppData/Local/Programs/Python/Python310/lib/site-packages/requests/models.py?line=839'>840</a>\u001b[0m \u001b[39mself\u001b[39m\u001b[39m.\u001b[39m_content_consumed \u001b[39m=\u001b[39m \u001b[39mTrue\u001b[39;00m\n\u001b[0;32m    <a href='file:///c%3A/Users/prakhar/AppData/Local/Programs/Python/Python310/lib/site-packages/requests/models.py?line=840'>841</a>\u001b[0m \u001b[39m# don't need to release the connection; that's been handled by urllib3\u001b[39;00m\n\u001b[0;32m    <a href='file:///c%3A/Users/prakhar/AppData/Local/Programs/Python/Python310/lib/site-packages/requests/models.py?line=841'>842</a>\u001b[0m \u001b[39m# since we exhausted the data.\u001b[39;00m\n",
      "File \u001b[1;32m~\\AppData\\Local\\Programs\\Python\\Python310\\lib\\site-packages\\requests\\models.py:767\u001b[0m, in \u001b[0;36mResponse.iter_content.<locals>.generate\u001b[1;34m()\u001b[0m\n\u001b[0;32m    <a href='file:///c%3A/Users/prakhar/AppData/Local/Programs/Python/Python310/lib/site-packages/requests/models.py?line=764'>765</a>\u001b[0m         \u001b[39mraise\u001b[39;00m ContentDecodingError(e)\n\u001b[0;32m    <a href='file:///c%3A/Users/prakhar/AppData/Local/Programs/Python/Python310/lib/site-packages/requests/models.py?line=765'>766</a>\u001b[0m     \u001b[39mexcept\u001b[39;00m ReadTimeoutError \u001b[39mas\u001b[39;00m e:\n\u001b[1;32m--> <a href='file:///c%3A/Users/prakhar/AppData/Local/Programs/Python/Python310/lib/site-packages/requests/models.py?line=766'>767</a>\u001b[0m         \u001b[39mraise\u001b[39;00m \u001b[39mConnectionError\u001b[39;00m(e)\n\u001b[0;32m    <a href='file:///c%3A/Users/prakhar/AppData/Local/Programs/Python/Python310/lib/site-packages/requests/models.py?line=767'>768</a>\u001b[0m \u001b[39melse\u001b[39;00m:\n\u001b[0;32m    <a href='file:///c%3A/Users/prakhar/AppData/Local/Programs/Python/Python310/lib/site-packages/requests/models.py?line=768'>769</a>\u001b[0m     \u001b[39m# Standard file-like object.\u001b[39;00m\n\u001b[0;32m    <a href='file:///c%3A/Users/prakhar/AppData/Local/Programs/Python/Python310/lib/site-packages/requests/models.py?line=769'>770</a>\u001b[0m     \u001b[39mwhile\u001b[39;00m \u001b[39mTrue\u001b[39;00m:\n",
      "\u001b[1;31mConnectionError\u001b[0m: HTTPSConnectionPool(host='finance.yahoo.com', port=443): Read timed out."
     ]
    }
   ],
   "source": [
    "# import yfinance as yf\n",
    "# tickers_list = ['AAPL', 'MSFT', 'GOOG']\n",
    "# data = pd.DataFrame(columns=tickers_list)\n",
    "# for ticker in tickers_list:\n",
    "#     data[ticker] =  web.DataReader( ticker,  'yahoo',  start, end)['Adj Close']\n",
    "    \n",
    "# # Print first 5 rows of the data\n",
    "# data.head"
   ]
  },
  {
   "cell_type": "code",
   "execution_count": 35,
   "id": "8f51c53e",
   "metadata": {},
   "outputs": [],
   "source": [
    "google = web.DataReader( 'GOOG',  'yahoo',  start, end)\n",
    "apple = web.DataReader( 'AAPL',  'yahoo',  start, end)\n",
    "microsoft = web.DataReader( 'MSFT',  'yahoo',  start, end)"
   ]
  },
  {
   "cell_type": "code",
   "execution_count": 36,
   "id": "fdd396b7",
   "metadata": {},
   "outputs": [],
   "source": [
    "data['GOOG'] = google['Adj Close']\n",
    "data['AAPL'] = apple['Adj Close']\n",
    "data['MSFT'] = microsoft['Adj Close']"
   ]
  },
  {
   "cell_type": "code",
   "execution_count": 37,
   "id": "f51b91e7",
   "metadata": {},
   "outputs": [
    {
     "data": {
      "text/html": [
       "<div>\n",
       "<style scoped>\n",
       "    .dataframe tbody tr th:only-of-type {\n",
       "        vertical-align: middle;\n",
       "    }\n",
       "\n",
       "    .dataframe tbody tr th {\n",
       "        vertical-align: top;\n",
       "    }\n",
       "\n",
       "    .dataframe thead th {\n",
       "        text-align: right;\n",
       "    }\n",
       "</style>\n",
       "<table border=\"1\" class=\"dataframe\">\n",
       "  <thead>\n",
       "    <tr style=\"text-align: right;\">\n",
       "      <th></th>\n",
       "      <th>AAPL</th>\n",
       "      <th>MSFT</th>\n",
       "      <th>GOOG</th>\n",
       "    </tr>\n",
       "    <tr>\n",
       "      <th>Date</th>\n",
       "      <th></th>\n",
       "      <th></th>\n",
       "      <th></th>\n",
       "    </tr>\n",
       "  </thead>\n",
       "  <tbody>\n",
       "    <tr>\n",
       "      <th>2020-12-31</th>\n",
       "      <td>131.709198</td>\n",
       "      <td>220.115967</td>\n",
       "      <td>1751.880005</td>\n",
       "    </tr>\n",
       "    <tr>\n",
       "      <th>2021-01-04</th>\n",
       "      <td>128.453445</td>\n",
       "      <td>215.434967</td>\n",
       "      <td>1728.239990</td>\n",
       "    </tr>\n",
       "    <tr>\n",
       "      <th>2021-01-05</th>\n",
       "      <td>130.041611</td>\n",
       "      <td>215.642792</td>\n",
       "      <td>1740.920044</td>\n",
       "    </tr>\n",
       "    <tr>\n",
       "      <th>2021-01-06</th>\n",
       "      <td>125.664207</td>\n",
       "      <td>210.051285</td>\n",
       "      <td>1735.290039</td>\n",
       "    </tr>\n",
       "    <tr>\n",
       "      <th>2021-01-07</th>\n",
       "      <td>129.952271</td>\n",
       "      <td>216.028748</td>\n",
       "      <td>1787.250000</td>\n",
       "    </tr>\n",
       "  </tbody>\n",
       "</table>\n",
       "</div>"
      ],
      "text/plain": [
       "                  AAPL        MSFT         GOOG\n",
       "Date                                           \n",
       "2020-12-31  131.709198  220.115967  1751.880005\n",
       "2021-01-04  128.453445  215.434967  1728.239990\n",
       "2021-01-05  130.041611  215.642792  1740.920044\n",
       "2021-01-06  125.664207  210.051285  1735.290039\n",
       "2021-01-07  129.952271  216.028748  1787.250000"
      ]
     },
     "execution_count": 37,
     "metadata": {},
     "output_type": "execute_result"
    }
   ],
   "source": [
    "data.head()"
   ]
  },
  {
   "cell_type": "code",
   "execution_count": 38,
   "id": "64da69c3",
   "metadata": {},
   "outputs": [
    {
     "data": {
      "text/plain": [
       "<AxesSubplot:xlabel='Date'>"
      ]
     },
     "execution_count": 38,
     "metadata": {},
     "output_type": "execute_result"
    },
    {
     "data": {
      "image/png": "[encoded data removed]",
      "text/plain": [
       "<Figure size 432x288 with 2 Axes>"
      ]
     },
     "metadata": {
      "needs_background": "light"
     },
     "output_type": "display_data"
    }
   ],
   "source": [
    "data.plot(secondary_y = [\"AAPL\", \"MSFT\"], grid = True)\n"
   ]
  },
  {
   "cell_type": "code",
   "execution_count": 39,
   "id": "4c82eeea",
   "metadata": {},
   "outputs": [
    {
     "data": {
      "text/html": [
       "<div>\n",
       "<style scoped>\n",
       "    .dataframe tbody tr th:only-of-type {\n",
       "        vertical-align: middle;\n",
       "    }\n",
       "\n",
       "    .dataframe tbody tr th {\n",
       "        vertical-align: top;\n",
       "    }\n",
       "\n",
       "    .dataframe thead th {\n",
       "        text-align: right;\n",
       "    }\n",
       "</style>\n",
       "<table border=\"1\" class=\"dataframe\">\n",
       "  <thead>\n",
       "    <tr style=\"text-align: right;\">\n",
       "      <th></th>\n",
       "      <th>AAPL</th>\n",
       "      <th>MSFT</th>\n",
       "      <th>GOOG</th>\n",
       "    </tr>\n",
       "    <tr>\n",
       "      <th>Date</th>\n",
       "      <th></th>\n",
       "      <th></th>\n",
       "      <th></th>\n",
       "    </tr>\n",
       "  </thead>\n",
       "  <tbody>\n",
       "    <tr>\n",
       "      <th>2020-12-31</th>\n",
       "      <td>NaN</td>\n",
       "      <td>NaN</td>\n",
       "      <td>NaN</td>\n",
       "    </tr>\n",
       "    <tr>\n",
       "      <th>2021-01-04</th>\n",
       "      <td>-0.025030</td>\n",
       "      <td>-0.021495</td>\n",
       "      <td>-0.013586</td>\n",
       "    </tr>\n",
       "    <tr>\n",
       "      <th>2021-01-05</th>\n",
       "      <td>0.012288</td>\n",
       "      <td>0.000964</td>\n",
       "      <td>0.007310</td>\n",
       "    </tr>\n",
       "    <tr>\n",
       "      <th>2021-01-06</th>\n",
       "      <td>-0.034241</td>\n",
       "      <td>-0.026272</td>\n",
       "      <td>-0.003239</td>\n",
       "    </tr>\n",
       "    <tr>\n",
       "      <th>2021-01-07</th>\n",
       "      <td>0.033554</td>\n",
       "      <td>0.028060</td>\n",
       "      <td>0.029504</td>\n",
       "    </tr>\n",
       "  </tbody>\n",
       "</table>\n",
       "</div>"
      ],
      "text/plain": [
       "                AAPL      MSFT      GOOG\n",
       "Date                                    \n",
       "2020-12-31       NaN       NaN       NaN\n",
       "2021-01-04 -0.025030 -0.021495 -0.013586\n",
       "2021-01-05  0.012288  0.000964  0.007310\n",
       "2021-01-06 -0.034241 -0.026272 -0.003239\n",
       "2021-01-07  0.033554  0.028060  0.029504"
      ]
     },
     "execution_count": 39,
     "metadata": {},
     "output_type": "execute_result"
    }
   ],
   "source": [
    "stock_change = data.apply(lambda x: np.log(x) - np.log(x.shift(1))) # shift moves dates back by 1.\n",
    "stock_change.head()"
   ]
  },
  {
   "cell_type": "code",
   "execution_count": 40,
   "id": "2646061f",
   "metadata": {},
   "outputs": [
    {
     "data": {
      "text/plain": [
       "<matplotlib.lines.Line2D at 0x1ebbb99b7f0>"
      ]
     },
     "execution_count": 40,
     "metadata": {},
     "output_type": "execute_result"
    },
    {
     "data": {
      "image/png": "[encoded data removed]",
      "text/plain": [
       "<Figure size 432x288 with 1 Axes>"
      ]
     },
     "metadata": {
      "needs_background": "light"
     },
     "output_type": "display_data"
    }
   ],
   "source": [
    "stock_change.plot(grid = True).axhline(y = 0, color = \"black\", lw = 2) "
   ]
  },
  {
   "cell_type": "code",
   "execution_count": 33,
   "id": "f72680b6",
   "metadata": {},
   "outputs": [],
   "source": [
    "spyder = web.DataReader(\"SPY\", \"yahoo\", start, end) "
   ]
  },
  {
   "cell_type": "code",
   "execution_count": 34,
   "id": "a97a3b5d",
   "metadata": {},
   "outputs": [
    {
     "data": {
      "text/html": [
       "<div>\n",
       "<style scoped>\n",
       "    .dataframe tbody tr th:only-of-type {\n",
       "        vertical-align: middle;\n",
       "    }\n",
       "\n",
       "    .dataframe tbody tr th {\n",
       "        vertical-align: top;\n",
       "    }\n",
       "\n",
       "    .dataframe thead th {\n",
       "        text-align: right;\n",
       "    }\n",
       "</style>\n",
       "<table border=\"1\" class=\"dataframe\">\n",
       "  <thead>\n",
       "    <tr style=\"text-align: right;\">\n",
       "      <th></th>\n",
       "      <th>High</th>\n",
       "      <th>Low</th>\n",
       "      <th>Open</th>\n",
       "      <th>Close</th>\n",
       "      <th>Volume</th>\n",
       "      <th>Adj Close</th>\n",
       "    </tr>\n",
       "    <tr>\n",
       "      <th>Date</th>\n",
       "      <th></th>\n",
       "      <th></th>\n",
       "      <th></th>\n",
       "      <th></th>\n",
       "      <th></th>\n",
       "      <th></th>\n",
       "    </tr>\n",
       "  </thead>\n",
       "  <tbody>\n",
       "    <tr>\n",
       "      <th>2020-12-31</th>\n",
       "      <td>374.660004</td>\n",
       "      <td>371.230011</td>\n",
       "      <td>371.779999</td>\n",
       "      <td>373.880005</td>\n",
       "      <td>78520700.0</td>\n",
       "      <td>367.819122</td>\n",
       "    </tr>\n",
       "    <tr>\n",
       "      <th>2021-01-04</th>\n",
       "      <td>375.450012</td>\n",
       "      <td>364.820007</td>\n",
       "      <td>375.309998</td>\n",
       "      <td>368.790009</td>\n",
       "      <td>110210800.0</td>\n",
       "      <td>362.811676</td>\n",
       "    </tr>\n",
       "    <tr>\n",
       "      <th>2021-01-05</th>\n",
       "      <td>372.500000</td>\n",
       "      <td>368.049988</td>\n",
       "      <td>368.100006</td>\n",
       "      <td>371.329987</td>\n",
       "      <td>66426200.0</td>\n",
       "      <td>365.310455</td>\n",
       "    </tr>\n",
       "    <tr>\n",
       "      <th>2021-01-06</th>\n",
       "      <td>376.980011</td>\n",
       "      <td>369.119995</td>\n",
       "      <td>369.709991</td>\n",
       "      <td>373.549988</td>\n",
       "      <td>107997700.0</td>\n",
       "      <td>367.494446</td>\n",
       "    </tr>\n",
       "    <tr>\n",
       "      <th>2021-01-07</th>\n",
       "      <td>379.899994</td>\n",
       "      <td>375.910004</td>\n",
       "      <td>376.100006</td>\n",
       "      <td>379.100006</td>\n",
       "      <td>68766800.0</td>\n",
       "      <td>372.954498</td>\n",
       "    </tr>\n",
       "  </tbody>\n",
       "</table>\n",
       "</div>"
      ],
      "text/plain": [
       "                  High         Low        Open       Close       Volume  \\\n",
       "Date                                                                      \n",
       "2020-12-31  374.660004  371.230011  371.779999  373.880005   78520700.0   \n",
       "2021-01-04  375.450012  364.820007  375.309998  368.790009  110210800.0   \n",
       "2021-01-05  372.500000  368.049988  368.100006  371.329987   66426200.0   \n",
       "2021-01-06  376.980011  369.119995  369.709991  373.549988  107997700.0   \n",
       "2021-01-07  379.899994  375.910004  376.100006  379.100006   68766800.0   \n",
       "\n",
       "             Adj Close  \n",
       "Date                    \n",
       "2020-12-31  367.819122  \n",
       "2021-01-04  362.811676  \n",
       "2021-01-05  365.310455  \n",
       "2021-01-06  367.494446  \n",
       "2021-01-07  372.954498  "
      ]
     },
     "execution_count": 34,
     "metadata": {},
     "output_type": "execute_result"
    }
   ],
   "source": [
    "spyder.head()"
   ]
  },
  {
   "cell_type": "code",
   "execution_count": 41,
   "id": "94f56204",
   "metadata": {},
   "outputs": [],
   "source": [
    "data['SPY'] = spyder['Adj Close']"
   ]
  },
  {
   "cell_type": "code",
   "execution_count": 42,
   "id": "6ef3e827",
   "metadata": {},
   "outputs": [
    {
     "data": {
      "text/html": [
       "<div>\n",
       "<style scoped>\n",
       "    .dataframe tbody tr th:only-of-type {\n",
       "        vertical-align: middle;\n",
       "    }\n",
       "\n",
       "    .dataframe tbody tr th {\n",
       "        vertical-align: top;\n",
       "    }\n",
       "\n",
       "    .dataframe thead th {\n",
       "        text-align: right;\n",
       "    }\n",
       "</style>\n",
       "<table border=\"1\" class=\"dataframe\">\n",
       "  <thead>\n",
       "    <tr style=\"text-align: right;\">\n",
       "      <th></th>\n",
       "      <th>AAPL</th>\n",
       "      <th>MSFT</th>\n",
       "      <th>GOOG</th>\n",
       "      <th>SPY</th>\n",
       "    </tr>\n",
       "    <tr>\n",
       "      <th>Date</th>\n",
       "      <th></th>\n",
       "      <th></th>\n",
       "      <th></th>\n",
       "      <th></th>\n",
       "    </tr>\n",
       "  </thead>\n",
       "  <tbody>\n",
       "    <tr>\n",
       "      <th>2020-12-31</th>\n",
       "      <td>NaN</td>\n",
       "      <td>NaN</td>\n",
       "      <td>NaN</td>\n",
       "      <td>NaN</td>\n",
       "    </tr>\n",
       "    <tr>\n",
       "      <th>2021-01-04</th>\n",
       "      <td>-0.025030</td>\n",
       "      <td>-0.021495</td>\n",
       "      <td>-0.013586</td>\n",
       "      <td>-0.013707</td>\n",
       "    </tr>\n",
       "    <tr>\n",
       "      <th>2021-01-05</th>\n",
       "      <td>0.012288</td>\n",
       "      <td>0.000964</td>\n",
       "      <td>0.007310</td>\n",
       "      <td>0.006864</td>\n",
       "    </tr>\n",
       "    <tr>\n",
       "      <th>2021-01-06</th>\n",
       "      <td>-0.034241</td>\n",
       "      <td>-0.026272</td>\n",
       "      <td>-0.003239</td>\n",
       "      <td>0.005961</td>\n",
       "    </tr>\n",
       "    <tr>\n",
       "      <th>2021-01-07</th>\n",
       "      <td>0.033554</td>\n",
       "      <td>0.028060</td>\n",
       "      <td>0.029504</td>\n",
       "      <td>0.014748</td>\n",
       "    </tr>\n",
       "  </tbody>\n",
       "</table>\n",
       "</div>"
      ],
      "text/plain": [
       "                AAPL      MSFT      GOOG       SPY\n",
       "Date                                              \n",
       "2020-12-31       NaN       NaN       NaN       NaN\n",
       "2021-01-04 -0.025030 -0.021495 -0.013586 -0.013707\n",
       "2021-01-05  0.012288  0.000964  0.007310  0.006864\n",
       "2021-01-06 -0.034241 -0.026272 -0.003239  0.005961\n",
       "2021-01-07  0.033554  0.028060  0.029504  0.014748"
      ]
     },
     "execution_count": 42,
     "metadata": {},
     "output_type": "execute_result"
    }
   ],
   "source": [
    "# comparing it with SPY data\n",
    "stock_change = data.apply(lambda x: np.log(x) - np.log(x.shift(1))) # shift moves dates back by 1.\n",
    "stock_change.head()"
   ]
  },
  {
   "cell_type": "code",
   "execution_count": 43,
   "id": "b5946b4b",
   "metadata": {},
   "outputs": [
    {
     "data": {
      "text/plain": [
       "<matplotlib.lines.Line2D at 0x1ebbba0c400>"
      ]
     },
     "execution_count": 43,
     "metadata": {},
     "output_type": "execute_result"
    },
    {
     "data": {
      "image/png": "[encoded data removed]",
      "text/plain": [
       "<Figure size 432x288 with 1 Axes>"
      ]
     },
     "metadata": {
      "needs_background": "light"
     },
     "output_type": "display_data"
    }
   ],
   "source": [
    "stock_change.plot(grid = True).axhline(y = 0, color = \"black\", lw = 2) "
   ]
  },
  {
   "cell_type": "code",
   "execution_count": 44,
   "id": "09c34837",
   "metadata": {},
   "outputs": [
    {
     "data": {
      "text/html": [
       "<div>\n",
       "<style scoped>\n",
       "    .dataframe tbody tr th:only-of-type {\n",
       "        vertical-align: middle;\n",
       "    }\n",
       "\n",
       "    .dataframe tbody tr th {\n",
       "        vertical-align: top;\n",
       "    }\n",
       "\n",
       "    .dataframe thead th {\n",
       "        text-align: right;\n",
       "    }\n",
       "</style>\n",
       "<table border=\"1\" class=\"dataframe\">\n",
       "  <thead>\n",
       "    <tr style=\"text-align: right;\">\n",
       "      <th></th>\n",
       "      <th>AAPL</th>\n",
       "      <th>MSFT</th>\n",
       "      <th>GOOG</th>\n",
       "      <th>SPY</th>\n",
       "    </tr>\n",
       "    <tr>\n",
       "      <th>Date</th>\n",
       "      <th></th>\n",
       "      <th></th>\n",
       "      <th></th>\n",
       "      <th></th>\n",
       "    </tr>\n",
       "  </thead>\n",
       "  <tbody>\n",
       "    <tr>\n",
       "      <th>2022-03-15</th>\n",
       "      <td>3.908268e+06</td>\n",
       "      <td>7.236180e+06</td>\n",
       "      <td>6.534889e+07</td>\n",
       "      <td>1.070622e+07</td>\n",
       "    </tr>\n",
       "    <tr>\n",
       "      <th>2022-03-16</th>\n",
       "      <td>4.021668e+06</td>\n",
       "      <td>7.418628e+06</td>\n",
       "      <td>6.738001e+07</td>\n",
       "      <td>1.094363e+07</td>\n",
       "    </tr>\n",
       "    <tr>\n",
       "      <th>2022-03-17</th>\n",
       "      <td>4.047624e+06</td>\n",
       "      <td>7.439544e+06</td>\n",
       "      <td>6.783865e+07</td>\n",
       "      <td>1.108054e+07</td>\n",
       "    </tr>\n",
       "    <tr>\n",
       "      <th>2022-03-18</th>\n",
       "      <td>4.132296e+06</td>\n",
       "      <td>7.570836e+06</td>\n",
       "      <td>6.894796e+07</td>\n",
       "      <td>1.120190e+07</td>\n",
       "    </tr>\n",
       "    <tr>\n",
       "      <th>2022-03-18</th>\n",
       "      <td>4.132296e+06</td>\n",
       "      <td>7.570836e+06</td>\n",
       "      <td>6.894796e+07</td>\n",
       "      <td>1.120190e+07</td>\n",
       "    </tr>\n",
       "  </tbody>\n",
       "</table>\n",
       "</div>"
      ],
      "text/plain": [
       "                    AAPL          MSFT          GOOG           SPY\n",
       "Date                                                              \n",
       "2022-03-15  3.908268e+06  7.236180e+06  6.534889e+07  1.070622e+07\n",
       "2022-03-16  4.021668e+06  7.418628e+06  6.738001e+07  1.094363e+07\n",
       "2022-03-17  4.047624e+06  7.439544e+06  6.783865e+07  1.108054e+07\n",
       "2022-03-18  4.132296e+06  7.570836e+06  6.894796e+07  1.120190e+07\n",
       "2022-03-18  4.132296e+06  7.570836e+06  6.894796e+07  1.120190e+07"
      ]
     },
     "execution_count": 44,
     "metadata": {},
     "output_type": "execute_result"
    }
   ],
   "source": [
    "stock_change_apr = data * 252 * 100    # There are 252 trading days in a year; the 100 converts to percentages\n",
    "stock_change_apr.tail()"
   ]
  },
  {
   "cell_type": "code",
   "execution_count": 52,
   "id": "e2b380e8",
   "metadata": {},
   "outputs": [
    {
     "data": {
      "text/html": [
       "<div>\n",
       "<style scoped>\n",
       "    .dataframe tbody tr th:only-of-type {\n",
       "        vertical-align: middle;\n",
       "    }\n",
       "\n",
       "    .dataframe tbody tr th {\n",
       "        vertical-align: top;\n",
       "    }\n",
       "\n",
       "    .dataframe thead th {\n",
       "        text-align: right;\n",
       "    }\n",
       "</style>\n",
       "<table border=\"1\" class=\"dataframe\">\n",
       "  <thead>\n",
       "    <tr style=\"text-align: right;\">\n",
       "      <th></th>\n",
       "      <th>DATE</th>\n",
       "      <th>TB3MS</th>\n",
       "    </tr>\n",
       "  </thead>\n",
       "  <tbody>\n",
       "    <tr>\n",
       "      <th>0</th>\n",
       "      <td>2021-02-01</td>\n",
       "      <td>0.04</td>\n",
       "    </tr>\n",
       "    <tr>\n",
       "      <th>1</th>\n",
       "      <td>2021-03-01</td>\n",
       "      <td>0.03</td>\n",
       "    </tr>\n",
       "    <tr>\n",
       "      <th>2</th>\n",
       "      <td>2021-04-01</td>\n",
       "      <td>0.02</td>\n",
       "    </tr>\n",
       "    <tr>\n",
       "      <th>3</th>\n",
       "      <td>2021-05-01</td>\n",
       "      <td>0.02</td>\n",
       "    </tr>\n",
       "    <tr>\n",
       "      <th>4</th>\n",
       "      <td>2021-06-01</td>\n",
       "      <td>0.04</td>\n",
       "    </tr>\n",
       "  </tbody>\n",
       "</table>\n",
       "</div>"
      ],
      "text/plain": [
       "         DATE  TB3MS\n",
       "0  2021-02-01   0.04\n",
       "1  2021-03-01   0.03\n",
       "2  2021-04-01   0.02\n",
       "3  2021-05-01   0.02\n",
       "4  2021-06-01   0.04"
      ]
     },
     "execution_count": 52,
     "metadata": {},
     "output_type": "execute_result"
    }
   ],
   "source": [
    "#the risk-free rate, which I denote by r_{RF}, is the rate \n",
    "#of return on a risk-free financial asset. This asset exists only in theory\n",
    "# but often yields on low-risk instruments like 3-month U.S. Treasury Bills can be viewed as being virtually risk-free and thus their yields can be used to approximate the risk-free rate.\n",
    "tbill = pd.read_csv('./TB3MS.csv', index_col=False)\n",
    "tbill.head()"
   ]
  },
  {
   "cell_type": "code",
   "execution_count": 48,
   "id": "2d4c2b74",
   "metadata": {},
   "outputs": [
    {
     "data": {
      "application/vnd.plotly.v1+json": {
       "config": {
        "plotlyServerURL": "https://plot.ly"
       },
       "data": [
        {
         "hovertemplate": "DATE=%{x}<br>TB3MS=%{y}<extra></extra>",
         "legendgroup": "",
         "line": {
          "color": "#636efa",
          "dash": "solid"
         },
         "marker": {
          "symbol": "circle"
         },
         "mode": "lines",
         "name": "",
         "orientation": "v",
         "showlegend": false,
         "type": "scatter",
         "x": [
          "2021-02-01",
          "2021-03-01",
          "2021-04-01",
          "2021-05-01",
          "2021-06-01",
          "2021-07-01",
          "2021-08-01",
          "2021-09-01",
          "2021-10-01",
          "2021-11-01",
          "2021-12-01",
          "2022-01-01",
          "2022-02-01"
         ],
         "xaxis": "x",
         "y": [
          0.04,
          0.03,
          0.02,
          0.02,
          0.04,
          0.05,
          0.05,
          0.04,
          0.05,
          0.05,
          0.06,
          0.15,
          0.33
         ],
         "yaxis": "y"
        }
       ],
       "layout": {
        "legend": {
         "tracegroupgap": 0
        },
        "margin": {
         "t": 60
        },
        "template": {
         "data": {
          "bar": [
           {
            "error_x": {
             "color": "#2a3f5f"
            },
            "error_y": {
             "color": "#2a3f5f"
            },
            "marker": {
             "line": {
              "color": "#E5ECF6",
              "width": 0.5
             },
             "pattern": {
              "fillmode": "overlay",
              "size": 10,
              "solidity": 0.2
             }
            },
            "type": "bar"
           }
          ],
          "barpolar": [
           {
            "marker": {
             "line": {
              "color": "#E5ECF6",
              "width": 0.5
             },
             "pattern": {
              "fillmode": "overlay",
              "size": 10,
              "solidity": 0.2
             }
            },
            "type": "barpolar"
           }
          ],
          "carpet": [
           {
            "aaxis": {
             "endlinecolor": "#2a3f5f",
             "gridcolor": "white",
             "linecolor": "white",
             "minorgridcolor": "white",
             "startlinecolor": "#2a3f5f"
            },
            "baxis": {
             "endlinecolor": "#2a3f5f",
             "gridcolor": "white",
             "linecolor": "white",
             "minorgridcolor": "white",
             "startlinecolor": "#2a3f5f"
            },
            "type": "carpet"
           }
          ],
          "choropleth": [
           {
            "colorbar": {
             "outlinewidth": 0,
             "ticks": ""
            },
            "type": "choropleth"
           }
          ],
          "contour": [
           {
            "colorbar": {
             "outlinewidth": 0,
             "ticks": ""
            },
            "colorscale": [
             [
              0,
              "#0d0887"
             ],
             [
              0.1111111111111111,
              "#46039f"
             ],
             [
              0.2222222222222222,
              "#7201a8"
             ],
             [
              0.3333333333333333,
              "#9c179e"
             ],
             [
              0.4444444444444444,
              "#bd3786"
             ],
             [
              0.5555555555555556,
              "#d8576b"
             ],
             [
              0.6666666666666666,
              "#ed7953"
             ],
             [
              0.7777777777777778,
              "#fb9f3a"
             ],
             [
              0.8888888888888888,
              "#fdca26"
             ],
             [
              1,
              "#f0f921"
             ]
            ],
            "type": "contour"
           }
          ],
          "contourcarpet": [
           {
            "colorbar": {
             "outlinewidth": 0,
             "ticks": ""
            },
            "type": "contourcarpet"
           }
          ],
          "heatmap": [
           {
            "colorbar": {
             "outlinewidth": 0,
             "ticks": ""
            },
            "colorscale": [
             [
              0,
              "#0d0887"
             ],
             [
              0.1111111111111111,
              "#46039f"
             ],
             [
              0.2222222222222222,
              "#7201a8"
             ],
             [
              0.3333333333333333,
              "#9c179e"
             ],
             [
              0.4444444444444444,
              "#bd3786"
             ],
             [
              0.5555555555555556,
              "#d8576b"
             ],
             [
              0.6666666666666666,
              "#ed7953"
             ],
             [
              0.7777777777777778,
              "#fb9f3a"
             ],
             [
              0.8888888888888888,
              "#fdca26"
             ],
             [
              1,
              "#f0f921"
             ]
            ],
            "type": "heatmap"
           }
          ],
          "heatmapgl": [
           {
            "colorbar": {
             "outlinewidth": 0,
             "ticks": ""
            },
            "colorscale": [
             [
              0,
              "#0d0887"
             ],
             [
              0.1111111111111111,
              "#46039f"
             ],
             [
              0.2222222222222222,
              "#7201a8"
             ],
             [
              0.3333333333333333,
              "#9c179e"
             ],
             [
              0.4444444444444444,
              "#bd3786"
             ],
             [
              0.5555555555555556,
              "#d8576b"
             ],
             [
              0.6666666666666666,
              "#ed7953"
             ],
             [
              0.7777777777777778,
              "#fb9f3a"
             ],
             [
              0.8888888888888888,
              "#fdca26"
             ],
             [
              1,
              "#f0f921"
             ]
            ],
            "type": "heatmapgl"
           }
          ],
          "histogram": [
           {
            "marker": {
             "pattern": {
              "fillmode": "overlay",
              "size": 10,
              "solidity": 0.2
             }
            },
            "type": "histogram"
           }
          ],
          "histogram2d": [
           {
            "colorbar": {
             "outlinewidth": 0,
             "ticks": ""
            },
            "colorscale": [
             [
              0,
              "#0d0887"
             ],
             [
              0.1111111111111111,
              "#46039f"
             ],
             [
              0.2222222222222222,
              "#7201a8"
             ],
             [
              0.3333333333333333,
              "#9c179e"
             ],
             [
              0.4444444444444444,
              "#bd3786"
             ],
             [
              0.5555555555555556,
              "#d8576b"
             ],
             [
              0.6666666666666666,
              "#ed7953"
             ],
             [
              0.7777777777777778,
              "#fb9f3a"
             ],
             [
              0.8888888888888888,
              "#fdca26"
             ],
             [
              1,
              "#f0f921"
             ]
            ],
            "type": "histogram2d"
           }
          ],
          "histogram2dcontour": [
           {
            "colorbar": {
             "outlinewidth": 0,
             "ticks": ""
            },
            "colorscale": [
             [
              0,
              "#0d0887"
             ],
             [
              0.1111111111111111,
              "#46039f"
             ],
             [
              0.2222222222222222,
              "#7201a8"
             ],
             [
              0.3333333333333333,
              "#9c179e"
             ],
             [
              0.4444444444444444,
              "#bd3786"
             ],
             [
              0.5555555555555556,
              "#d8576b"
             ],
             [
              0.6666666666666666,
              "#ed7953"
             ],
             [
              0.7777777777777778,
              "#fb9f3a"
             ],
             [
              0.8888888888888888,
              "#fdca26"
             ],
             [
              1,
              "#f0f921"
             ]
            ],
            "type": "histogram2dcontour"
           }
          ],
          "mesh3d": [
           {
            "colorbar": {
             "outlinewidth": 0,
             "ticks": ""
            },
            "type": "mesh3d"
           }
          ],
          "parcoords": [
           {
            "line": {
             "colorbar": {
              "outlinewidth": 0,
              "ticks": ""
             }
            },
            "type": "parcoords"
           }
          ],
          "pie": [
           {
            "automargin": true,
            "type": "pie"
           }
          ],
          "scatter": [
           {
            "marker": {
             "colorbar": {
              "outlinewidth": 0,
              "ticks": ""
             }
            },
            "type": "scatter"
           }
          ],
          "scatter3d": [
           {
            "line": {
             "colorbar": {
              "outlinewidth": 0,
              "ticks": ""
             }
            },
            "marker": {
             "colorbar": {
              "outlinewidth": 0,
              "ticks": ""
             }
            },
            "type": "scatter3d"
           }
          ],
          "scattercarpet": [
           {
            "marker": {
             "colorbar": {
              "outlinewidth": 0,
              "ticks": ""
             }
            },
            "type": "scattercarpet"
           }
          ],
          "scattergeo": [
           {
            "marker": {
             "colorbar": {
              "outlinewidth": 0,
              "ticks": ""
             }
            },
            "type": "scattergeo"
           }
          ],
          "scattergl": [
           {
            "marker": {
             "colorbar": {
              "outlinewidth": 0,
              "ticks": ""
             }
            },
            "type": "scattergl"
           }
          ],
          "scattermapbox": [
           {
            "marker": {
             "colorbar": {
              "outlinewidth": 0,
              "ticks": ""
             }
            },
            "type": "scattermapbox"
           }
          ],
          "scatterpolar": [
           {
            "marker": {
             "colorbar": {
              "outlinewidth": 0,
              "ticks": ""
             }
            },
            "type": "scatterpolar"
           }
          ],
          "scatterpolargl": [
           {
            "marker": {
             "colorbar": {
              "outlinewidth": 0,
              "ticks": ""
             }
            },
            "type": "scatterpolargl"
           }
          ],
          "scatterternary": [
           {
            "marker": {
             "colorbar": {
              "outlinewidth": 0,
              "ticks": ""
             }
            },
            "type": "scatterternary"
           }
          ],
          "surface": [
           {
            "colorbar": {
             "outlinewidth": 0,
             "ticks": ""
            },
            "colorscale": [
             [
              0,
              "#0d0887"
             ],
             [
              0.1111111111111111,
              "#46039f"
             ],
             [
              0.2222222222222222,
              "#7201a8"
             ],
             [
              0.3333333333333333,
              "#9c179e"
             ],
             [
              0.4444444444444444,
              "#bd3786"
             ],
             [
              0.5555555555555556,
              "#d8576b"
             ],
             [
              0.6666666666666666,
              "#ed7953"
             ],
             [
              0.7777777777777778,
              "#fb9f3a"
             ],
             [
              0.8888888888888888,
              "#fdca26"
             ],
             [
              1,
              "#f0f921"
             ]
            ],
            "type": "surface"
           }
          ],
          "table": [
           {
            "cells": {
             "fill": {
              "color": "#EBF0F8"
             },
             "line": {
              "color": "white"
             }
            },
            "header": {
             "fill": {
              "color": "#C8D4E3"
             },
             "line": {
              "color": "white"
             }
            },
            "type": "table"
           }
          ]
         },
         "layout": {
          "annotationdefaults": {
           "arrowcolor": "#2a3f5f",
           "arrowhead": 0,
           "arrowwidth": 1
          },
          "autotypenumbers": "strict",
          "coloraxis": {
           "colorbar": {
            "outlinewidth": 0,
            "ticks": ""
           }
          },
          "colorscale": {
           "diverging": [
            [
             0,
             "#8e0152"
            ],
            [
             0.1,
             "#c51b7d"
            ],
            [
             0.2,
             "#de77ae"
            ],
            [
             0.3,
             "#f1b6da"
            ],
            [
             0.4,
             "#fde0ef"
            ],
            [
             0.5,
             "#f7f7f7"
            ],
            [
             0.6,
             "#e6f5d0"
            ],
            [
             0.7,
             "#b8e186"
            ],
            [
             0.8,
             "#7fbc41"
            ],
            [
             0.9,
             "#4d9221"
            ],
            [
             1,
             "#276419"
            ]
           ],
           "sequential": [
            [
             0,
             "#0d0887"
            ],
            [
             0.1111111111111111,
             "#46039f"
            ],
            [
             0.2222222222222222,
             "#7201a8"
            ],
            [
             0.3333333333333333,
             "#9c179e"
            ],
            [
             0.4444444444444444,
             "#bd3786"
            ],
            [
             0.5555555555555556,
             "#d8576b"
            ],
            [
             0.6666666666666666,
             "#ed7953"
            ],
            [
             0.7777777777777778,
             "#fb9f3a"
            ],
            [
             0.8888888888888888,
             "#fdca26"
            ],
            [
             1,
             "#f0f921"
            ]
           ],
           "sequentialminus": [
            [
             0,
             "#0d0887"
            ],
            [
             0.1111111111111111,
             "#46039f"
            ],
            [
             0.2222222222222222,
             "#7201a8"
            ],
            [
             0.3333333333333333,
             "#9c179e"
            ],
            [
             0.4444444444444444,
             "#bd3786"
            ],
            [
             0.5555555555555556,
             "#d8576b"
            ],
            [
             0.6666666666666666,
             "#ed7953"
            ],
            [
             0.7777777777777778,
             "#fb9f3a"
            ],
            [
             0.8888888888888888,
             "#fdca26"
            ],
            [
             1,
             "#f0f921"
            ]
           ]
          },
          "colorway": [
           "#636efa",
           "#EF553B",
           "#00cc96",
           "#ab63fa",
           "#FFA15A",
           "#19d3f3",
           "#FF6692",
           "#B6E880",
           "#FF97FF",
           "#FECB52"
          ],
          "font": {
           "color": "#2a3f5f"
          },
          "geo": {
           "bgcolor": "white",
           "lakecolor": "white",
           "landcolor": "#E5ECF6",
           "showlakes": true,
           "showland": true,
           "subunitcolor": "white"
          },
          "hoverlabel": {
           "align": "left"
          },
          "hovermode": "closest",
          "mapbox": {
           "style": "light"
          },
          "paper_bgcolor": "white",
          "plot_bgcolor": "#E5ECF6",
          "polar": {
           "angularaxis": {
            "gridcolor": "white",
            "linecolor": "white",
            "ticks": ""
           },
           "bgcolor": "#E5ECF6",
           "radialaxis": {
            "gridcolor": "white",
            "linecolor": "white",
            "ticks": ""
           }
          },
          "scene": {
           "xaxis": {
            "backgroundcolor": "#E5ECF6",
            "gridcolor": "white",
            "gridwidth": 2,
            "linecolor": "white",
            "showbackground": true,
            "ticks": "",
            "zerolinecolor": "white"
           },
           "yaxis": {
            "backgroundcolor": "#E5ECF6",
            "gridcolor": "white",
            "gridwidth": 2,
            "linecolor": "white",
            "showbackground": true,
            "ticks": "",
            "zerolinecolor": "white"
           },
           "zaxis": {
            "backgroundcolor": "#E5ECF6",
            "gridcolor": "white",
            "gridwidth": 2,
            "linecolor": "white",
            "showbackground": true,
            "ticks": "",
            "zerolinecolor": "white"
           }
          },
          "shapedefaults": {
           "line": {
            "color": "#2a3f5f"
           }
          },
          "ternary": {
           "aaxis": {
            "gridcolor": "white",
            "linecolor": "white",
            "ticks": ""
           },
           "baxis": {
            "gridcolor": "white",
            "linecolor": "white",
            "ticks": ""
           },
           "bgcolor": "#E5ECF6",
           "caxis": {
            "gridcolor": "white",
            "linecolor": "white",
            "ticks": ""
           }
          },
          "title": {
           "x": 0.05
          },
          "xaxis": {
           "automargin": true,
           "gridcolor": "white",
           "linecolor": "white",
           "ticks": "",
           "title": {
            "standoff": 15
           },
           "zerolinecolor": "white",
           "zerolinewidth": 2
          },
          "yaxis": {
           "automargin": true,
           "gridcolor": "white",
           "linecolor": "white",
           "ticks": "",
           "title": {
            "standoff": 15
           },
           "zerolinecolor": "white",
           "zerolinewidth": 2
          }
         }
        },
        "xaxis": {
         "anchor": "y",
         "domain": [
          0,
          1
         ],
         "title": {
          "text": "DATE"
         }
        },
        "yaxis": {
         "anchor": "x",
         "domain": [
          0,
          1
         ],
         "title": {
          "text": "TB3MS"
         }
        }
       }
      }
     },
     "metadata": {},
     "output_type": "display_data"
    }
   ],
   "source": [
    "import plotly.express as px\n",
    "fig = px.line(tbill, x=\"DATE\", y=\"TB3MS\")\n",
    "fig.show()"
   ]
  },
  {
   "cell_type": "code",
   "execution_count": 54,
   "id": "a4b81738",
   "metadata": {},
   "outputs": [
    {
     "data": {
      "text/plain": [
       "0.33"
      ]
     },
     "execution_count": 54,
     "metadata": {},
     "output_type": "execute_result"
    }
   ],
   "source": [
    "rrf = tbill['TB3MS'].iloc[-1]    # Get the most recent Treasury Bill rate\n",
    "rrf"
   ]
  },
  {
   "cell_type": "code",
   "execution_count": 55,
   "id": "f5f82bcd",
   "metadata": {},
   "outputs": [
    {
     "name": "stderr",
     "output_type": "stream",
     "text": [
      "C:\\Users\\prakhar\\AppData\\Local\\Temp\\ipykernel_12204\\2970449786.py:1: FutureWarning:\n",
      "\n",
      "In a future version of pandas all arguments of DataFrame.drop except for the argument 'labels' will be keyword-only.\n",
      "\n"
     ]
    },
    {
     "data": {
      "text/plain": [
       "AAPL    0.810927\n",
       "MSFT    0.965442\n",
       "GOOG    0.966113\n",
       "dtype: float64"
      ]
     },
     "execution_count": 55,
     "metadata": {},
     "output_type": "execute_result"
    }
   ],
   "source": [
    "smcorr = stock_change_apr.drop(\"SPY\", 1).corrwith(stock_change_apr.SPY)    # Since RRF is constant it doesn't change the\n",
    "                                                                           # correlation so we can ignore it in our\n",
    "                                                                           # calculation\n",
    "smcorr"
   ]
  },
  {
   "cell_type": "code",
   "execution_count": 56,
   "id": "a2d98c96",
   "metadata": {},
   "outputs": [
    {
     "name": "stderr",
     "output_type": "stream",
     "text": [
      "C:\\Users\\prakhar\\AppData\\Local\\Temp\\ipykernel_12204\\1854261323.py:1: FutureWarning:\n",
      "\n",
      "In a future version of pandas all arguments of DataFrame.drop except for the argument 'labels' will be keyword-only.\n",
      "\n"
     ]
    },
    {
     "data": {
      "text/plain": [
       "AAPL    4.309943e+05\n",
       "MSFT    8.995303e+05\n",
       "GOOG    8.723913e+06\n",
       "dtype: float64"
      ]
     },
     "execution_count": 56,
     "metadata": {},
     "output_type": "execute_result"
    }
   ],
   "source": [
    "sy = stock_change_apr.drop(\"SPY\", 1).std()\n",
    "sx = stock_change_apr.SPY.std()\n",
    "sy"
   ]
  },
  {
   "cell_type": "code",
   "execution_count": 57,
   "id": "b91f9ea8",
   "metadata": {},
   "outputs": [
    {
     "data": {
      "text/plain": [
       "734674.1068969879"
      ]
     },
     "execution_count": 57,
     "metadata": {},
     "output_type": "execute_result"
    }
   ],
   "source": [
    "sx"
   ]
  },
  {
   "cell_type": "code",
   "execution_count": 58,
   "id": "c101e61a",
   "metadata": {},
   "outputs": [
    {
     "name": "stderr",
     "output_type": "stream",
     "text": [
      "C:\\Users\\prakhar\\AppData\\Local\\Temp\\ipykernel_12204\\739597097.py:1: FutureWarning:\n",
      "\n",
      "In a future version of pandas all arguments of DataFrame.drop except for the argument 'labels' will be keyword-only.\n",
      "\n"
     ]
    },
    {
     "data": {
      "text/plain": [
       "AAPL    3.656535e+06\n",
       "MSFT    7.021390e+06\n",
       "GOOG    6.406147e+07\n",
       "dtype: float64"
      ]
     },
     "execution_count": 58,
     "metadata": {},
     "output_type": "execute_result"
    }
   ],
   "source": [
    "ybar = stock_change_apr.drop(\"SPY\", 1).mean() - rrf\n",
    "xbar = stock_change_apr.SPY.mean() - rrf\n",
    "ybar"
   ]
  },
  {
   "cell_type": "code",
   "execution_count": 59,
   "id": "566dc867",
   "metadata": {},
   "outputs": [
    {
     "data": {
      "text/plain": [
       "10717750.801476486"
      ]
     },
     "execution_count": 59,
     "metadata": {},
     "output_type": "execute_result"
    }
   ],
   "source": [
    "xbar"
   ]
  },
  {
   "cell_type": "code",
   "execution_count": 60,
   "id": "ec3e0598",
   "metadata": {},
   "outputs": [
    {
     "data": {
      "text/plain": [
       "AAPL     0.475728\n",
       "MSFT     1.182081\n",
       "GOOG    11.472139\n",
       "dtype: float64"
      ]
     },
     "execution_count": 60,
     "metadata": {},
     "output_type": "execute_result"
    }
   ],
   "source": [
    "beta = smcorr * sy / sx\n",
    "alpha = ybar - beta * xbar\n",
    "beta"
   ]
  },
  {
   "cell_type": "code",
   "execution_count": 61,
   "id": "c48530b0",
   "metadata": {},
   "outputs": [
    {
     "data": {
      "text/plain": [
       "AAPL   -1.442199e+06\n",
       "MSFT   -5.647863e+06\n",
       "GOOG   -5.889405e+07\n",
       "dtype: float64"
      ]
     },
     "execution_count": 61,
     "metadata": {},
     "output_type": "execute_result"
    }
   ],
   "source": [
    "alpha"
   ]
  },
  {
   "cell_type": "code",
   "execution_count": 62,
   "id": "83373aea",
   "metadata": {},
   "outputs": [
    {
     "data": {
      "text/plain": [
       "AAPL    8.483953\n",
       "MSFT    7.805617\n",
       "GOOG    7.343203\n",
       "dtype: float64"
      ]
     },
     "execution_count": 62,
     "metadata": {},
     "output_type": "execute_result"
    }
   ],
   "source": [
    "sharpe = (ybar - rrf)/sy\n",
    "sharpe"
   ]
  },
  {
   "cell_type": "code",
   "execution_count": 63,
   "id": "bc35f5c2",
   "metadata": {},
   "outputs": [
    {
     "data": {
      "text/plain": [
       "14.58844182864236"
      ]
     },
     "execution_count": 63,
     "metadata": {},
     "output_type": "execute_result"
    }
   ],
   "source": [
    "(xbar - rrf)/sx"
   ]
  }
 ],
 "metadata": {
  "kernelspec": {
   "display_name": "Python 3",
   "language": "python",
   "name": "python3"
  },
  "language_info": {
   "codemirror_mode": {
    "name": "ipython",
    "version": 3
   },
   "file_extension": ".py",
   "mimetype": "text/x-python",
   "name": "python",
   "nbconvert_exporter": "python",
   "pygments_lexer": "ipython3",
   "version": "3.10.2"
  }
 },
 "nbformat": 4,
 "nbformat_minor": 5
}
